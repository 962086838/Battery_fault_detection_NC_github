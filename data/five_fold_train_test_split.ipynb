{
 "cells": [
  {
   "cell_type": "code",
   "execution_count": 29,
   "metadata": {},
   "outputs": [],
   "source": [
    "import numpy as np\n",
    "import os\n",
    "import pickle\n",
    "from glob import glob\n",
    "import torch\n",
    "import pandas as pd\n",
    "import matplotlib.pyplot as plt\n",
    "import pandas as pd\n",
    "import random\n",
    "from tqdm import tqdm"
   ]
  },
  {
   "cell_type": "code",
   "execution_count": 30,
   "metadata": {},
   "outputs": [],
   "source": [
    "current_dir = os.getcwd()"
   ]
  },
  {
   "cell_type": "markdown",
   "metadata": {},
   "source": [
    "# generate new all_car_dict based on battery_data1, battery_data2 and battery_data3"
   ]
  },
  {
   "cell_type": "markdown",
   "metadata": {},
   "source": [
    "# battery_data1"
   ]
  },
  {
   "cell_type": "code",
   "execution_count": 32,
   "metadata": {},
   "outputs": [
    {
     "name": "stderr",
     "output_type": "stream",
     "text": [
      "100%|██████████| 476739/476739 [01:12<00:00, 6601.23it/s]\n"
     ]
    },
    {
     "name": "stdout",
     "output_type": "stream",
     "text": [
      "[129, 158, 152, 79, 95, 114, 34, 177, 99, 138, 163, 54, 45, 115, 66, 87, 47, 57, 31, 195, 36, 102, 72, 173, 94, 51, 92, 61, 153, 125, 103, 3, 50, 10, 7, 146, 166, 48, 75, 86, 15, 175, 64, 2, 110, 13, 23, 93, 116, 62, 8, 41, 22, 6, 24, 101, 46, 187, 198, 142, 131, 18, 160, 56, 29, 141, 148, 168, 71, 53, 104, 120, 154, 20, 17, 111, 133, 63, 35, 83, 5, 88, 159, 145, 176, 127, 77, 118, 52, 81, 121, 59, 38, 80, 109, 179, 28, 123, 44, 180, 149, 135, 164, 74, 40, 14, 65, 69, 42, 193, 12, 60, 73, 126, 161, 188, 32, 30, 170, 128, 167, 9, 155, 156, 43, 100, 33, 90, 139, 1, 112, 25, 4, 16, 189, 147, 124, 178, 55, 85, 122, 96, 162, 132, 89, 19, 27, 84, 39, 151, 67, 26, 172, 76, 37, 143, 58, 165, 97, 134, 82, 113, 137, 144, 70, 11, 117, 106]\n",
      "[91, 192, 169, 130, 140, 171, 190, 186, 105, 49, 181, 157, 183, 185, 194, 98, 191, 136, 119, 196, 107, 68, 108, 78, 182, 150, 174, 21, 184, 197]\n",
      "{1, 2, 3, 4, 5, 6, 7, 8, 9, 10, 11, 12, 13, 14, 15, 16, 17, 18, 19, 20, 22, 23, 24, 25, 26, 27, 28, 29, 30, 31, 32, 33, 34, 35, 36, 37, 38, 39, 40, 41, 42, 43, 44, 45, 46, 47, 48, 50, 51, 52, 53, 54, 55, 56, 57, 58, 59, 60, 61, 62, 63, 64, 65, 66, 67, 69, 70, 71, 72, 73, 74, 75, 76, 77, 79, 80, 81, 82, 83, 84, 85, 86, 87, 88, 89, 90, 92, 93, 94, 95, 96, 97, 99, 100, 101, 102, 103, 104, 106, 109, 110, 111, 112, 113, 114, 115, 116, 117, 118, 120, 121, 122, 123, 124, 125, 126, 127, 128, 129, 131, 132, 133, 134, 135, 137, 138, 139, 141, 142, 143, 144, 145, 146, 147, 148, 149, 151, 152, 153, 154, 155, 156, 158, 159, 160, 161, 162, 163, 164, 165, 166, 167, 168, 170, 172, 173, 175, 176, 177, 178, 179, 180, 187, 188, 189, 193, 195, 198} 168\n",
      "{130, 136, 140, 21, 150, 157, 169, 171, 174, 49, 181, 182, 183, 184, 185, 186, 190, 191, 192, 194, 68, 197, 196, 78, 91, 98, 105, 107, 108, 119} 30\n"
     ]
    }
   ],
   "source": [
    "train_path = current_dir+'/battery_brand1/train'\n",
    "test_path = current_dir+'/battery_brand1/test'\n",
    "\n",
    "train_pkl_files = glob(train_path+'/*.pkl')\n",
    "test_pkl_files = glob(test_path+'/*.pkl')\n",
    "\n",
    "ind_pkl_files = []\n",
    "ood_pkl_files = []\n",
    "car_num_list = []\n",
    "\n",
    "ood_car_num_list = set()\n",
    "ind_car_num_list = set()\n",
    "\n",
    "all_car_dict = {}\n",
    "\n",
    "for each_path in tqdm(train_pkl_files+test_pkl_files):\n",
    "#     print(each_path)\n",
    "    this_pkl_file = torch.load(each_path)\n",
    "    this_car_number = this_pkl_file[1]['car']\n",
    "    if this_pkl_file[1]['label'] == '00':\n",
    "        ind_pkl_files.append(each_path)\n",
    "        ind_car_num_list.add(this_car_number)\n",
    "    else:\n",
    "        ood_pkl_files.append(each_path)\n",
    "        ood_car_num_list.add(this_car_number)\n",
    "    car_num_list.append(this_pkl_file[1]['car'])\n",
    "    if this_car_number not in all_car_dict:\n",
    "        all_car_dict[this_car_number] = []\n",
    "        all_car_dict[this_car_number].append(each_path)\n",
    "    else:\n",
    "        all_car_dict[this_car_number].append(each_path)\n",
    "# shuffle\n",
    "random.seed(0)\n",
    "ind_sorted = sorted(ind_car_num_list)\n",
    "random.shuffle(ind_sorted)\n",
    "print(ind_sorted)\n",
    "ood_sorted = sorted(ood_car_num_list)\n",
    "random.shuffle(ood_sorted)\n",
    "print(ood_sorted)        \n",
    "print(ind_car_num_list, len(ind_car_num_list))\n",
    "print(ood_car_num_list, len(ood_car_num_list))"
   ]
  },
  {
   "cell_type": "code",
   "execution_count": 33,
   "metadata": {},
   "outputs": [],
   "source": [
    "ind_odd_dict = {}\n",
    "ind_odd_dict[\"ind_sorted\"],ind_odd_dict[\"ood_sorted\"] = ind_sorted, ood_sorted\n",
    "os.makedirs('../five_fold_utils', exist_ok=True)\n",
    "np.save('../five_fold_utils/ind_odd_dict1.npz', ind_odd_dict)"
   ]
  },
  {
   "cell_type": "markdown",
   "metadata": {},
   "source": [
    "# battery_data2"
   ]
  },
  {
   "cell_type": "code",
   "execution_count": 35,
   "metadata": {},
   "outputs": [
    {
     "name": "stderr",
     "output_type": "stream",
     "text": [
      "100%|██████████| 194245/194245 [00:26<00:00, 7198.01it/s]"
     ]
    },
    {
     "name": "stdout",
     "output_type": "stream",
     "text": [
      "{201, 202, 203, 207, 208, 211, 213, 214, 216, 217, 218, 220, 221, 222, 223, 224, 226, 227, 228, 229, 231, 232, 233, 234, 235, 238, 242, 244, 245, 246, 248, 249, 250} 33\n",
      "{225, 247, 204, 205, 206, 239, 237, 209, 210, 241, 212, 236, 240, 215, 243, 219} 16\n",
      "[214, 231, 233, 234, 218, 201, 211, 248, 222, 203, 223, 246, 229, 249, 227, 207, 232, 250, 208, 245, 213, 228, 220, 244, 217, 238, 221, 224, 226, 216, 202, 242, 235]\n",
      "[205, 247, 241, 204, 206, 210, 243, 240, 219, 225, 209, 237, 236, 212, 215, 239]\n"
     ]
    },
    {
     "name": "stderr",
     "output_type": "stream",
     "text": [
      "\n"
     ]
    }
   ],
   "source": [
    "train_path = current_dir+'/battery_brand2/train'\n",
    "test_path = current_dir+'/battery_brand2/test'\n",
    "\n",
    "train_pkl_files = glob(train_path+'/*.pkl')\n",
    "test_pkl_files = glob(test_path+'/*.pkl')\n",
    "ind_pkl_files = []\n",
    "ood_pkl_files = []\n",
    "car_num_list = []\n",
    "\n",
    "ood_car_num_list = set()\n",
    "ind_car_num_list = set()\n",
    "for each_path in tqdm(train_pkl_files+test_pkl_files):\n",
    "#     print(each_path)\n",
    "    this_pkl_file = torch.load(each_path)\n",
    "    this_car_number = this_pkl_file[1]['car']\n",
    "    if this_pkl_file[1]['label'] == '00':\n",
    "        ind_pkl_files.append(each_path)\n",
    "        ind_car_num_list.add(this_car_number)\n",
    "    else:\n",
    "        ood_pkl_files.append(each_path)\n",
    "        ood_car_num_list.add(this_car_number)\n",
    "    car_num_list.append(this_pkl_file[1]['car'])\n",
    "    if this_car_number not in all_car_dict:\n",
    "        all_car_dict[this_car_number] = []\n",
    "        all_car_dict[this_car_number].append(each_path)\n",
    "    else:\n",
    "        all_car_dict[this_car_number].append(each_path)\n",
    "\n",
    "print(ind_car_num_list, len(ind_car_num_list))\n",
    "print(ood_car_num_list, len(ood_car_num_list))\n",
    "# shuffle\n",
    "random.seed(0)\n",
    "ind_sorted = sorted(ind_car_num_list)\n",
    "random.shuffle(ind_sorted)\n",
    "print(ind_sorted)\n",
    "ood_sorted = sorted(ood_car_num_list)\n",
    "random.shuffle(ood_sorted)\n",
    "print(ood_sorted)\n",
    "ind_odd_dict = {}\n",
    "ind_odd_dict[\"ind_sorted\"],ind_odd_dict[\"ood_sorted\"] = ind_sorted, ood_sorted\n",
    "os.makedirs('../five_fold_utils', exist_ok=True)\n",
    "np.save('../five_fold_utils/ind_odd_dict2.npz', ind_odd_dict)"
   ]
  },
  {
   "cell_type": "markdown",
   "metadata": {},
   "source": [
    "# battery_data3"
   ]
  },
  {
   "cell_type": "code",
   "execution_count": 37,
   "metadata": {},
   "outputs": [
    {
     "name": "stderr",
     "output_type": "stream",
     "text": [
      "100%|██████████| 29598/29598 [00:03<00:00, 7737.19it/s]"
     ]
    },
    {
     "name": "stdout",
     "output_type": "stream",
     "text": [
      "{401, 402, 403, 406, 407, 408, 409, 410, 411, 412, 413, 414, 415, 416, 417, 418, 420, 421, 422, 423, 425, 426, 427, 428, 429, 430, 431, 432, 433, 434, 435, 436, 437, 438, 439, 440, 441, 442, 443, 444, 445, 446, 447, 448, 449, 450, 451, 452, 453, 454, 455, 456, 457, 458, 459, 460, 461, 463, 464, 466, 467, 468, 469, 470, 471, 472, 474, 476, 477, 478, 479, 480, 481, 482, 483, 484, 485, 486, 487, 488, 489, 490, 491, 493, 494, 495, 496, 497, 498, 499, 500} 91\n",
      "{419, 424, 492, 462, 465, 404, 405, 473, 475} 9\n",
      "[411, 410, 434, 449, 423, 414, 431, 485, 446, 466, 453, 480, 455, 488, 402, 439, 427, 409, 442, 448, 428, 452, 429, 484, 482, 457, 459, 499, 413, 461, 403, 470, 481, 493, 417, 496, 407, 495, 418, 426, 436, 491, 500, 474, 476, 487, 430, 451, 498, 401, 463, 494, 406, 420, 497, 433, 435, 440, 416, 464, 445, 479, 425, 460, 490, 478, 467, 447, 412, 489, 444, 422, 477, 437, 415, 486, 441, 421, 471, 432, 483, 450, 468, 443, 456, 469, 472, 438, 408, 458, 454]\n",
      "[424, 419, 473, 462, 492, 465, 404, 405, 475]\n"
     ]
    },
    {
     "name": "stderr",
     "output_type": "stream",
     "text": [
      "\n"
     ]
    }
   ],
   "source": [
    "data_path = current_dir+'/battery_brand3/data'\n",
    "\n",
    "data_pkl_files = glob(data_path+'/*.pkl')\n",
    "ind_pkl_files = []\n",
    "ood_pkl_files = []\n",
    "car_num_list = []\n",
    "\n",
    "ood_car_num_list = set()\n",
    "ind_car_num_list = set()\n",
    "for each_path in tqdm(data_pkl_files):\n",
    "#     print(each_path)\n",
    "    this_pkl_file = torch.load(each_path)\n",
    "    this_car_number = this_pkl_file[1]['car']\n",
    "    if this_pkl_file[1]['label'] == '00':\n",
    "        ind_pkl_files.append(each_path)\n",
    "        ind_car_num_list.add(this_car_number)\n",
    "    else:\n",
    "        ood_pkl_files.append(each_path)\n",
    "        ood_car_num_list.add(this_car_number)\n",
    "    car_num_list.append(this_pkl_file[1]['car'])\n",
    "    if this_car_number not in all_car_dict:\n",
    "        all_car_dict[this_car_number] = []\n",
    "        all_car_dict[this_car_number].append(each_path)\n",
    "    else:\n",
    "        all_car_dict[this_car_number].append(each_path)\n",
    "\n",
    "\n",
    "print(ind_car_num_list, len(ind_car_num_list))\n",
    "print(ood_car_num_list, len(ood_car_num_list))\n",
    "# shuffle\n",
    "random.seed(0)\n",
    "ind_sorted = sorted(ind_car_num_list)\n",
    "random.shuffle(ind_sorted)\n",
    "print(ind_sorted)\n",
    "ood_sorted = sorted(ood_car_num_list)\n",
    "random.shuffle(ood_sorted)\n",
    "print(ood_sorted)\n",
    "ind_odd_dict = {}\n",
    "ind_odd_dict[\"ind_sorted\"],ind_odd_dict[\"ood_sorted\"] = ind_sorted, ood_sorted\n",
    "os.makedirs('../five_fold_utils', exist_ok=True)\n",
    "np.save('../five_fold_utils/ind_odd_dict3.npz', ind_odd_dict)"
   ]
  },
  {
   "cell_type": "code",
   "execution_count": 38,
   "metadata": {},
   "outputs": [],
   "source": [
    "# save all the three brands path information\n",
    "np.save('../five_fold_utils/all_car_dict.npz', all_car_dict)"
   ]
  },
  {
   "cell_type": "code",
   "execution_count": null,
   "metadata": {},
   "outputs": [],
   "source": []
  }
 ],
 "metadata": {
  "kernelspec": {
   "display_name": "Python 3",
   "language": "python",
   "name": "python3"
  },
  "language_info": {
   "codemirror_mode": {
    "name": "ipython",
    "version": 3
   },
   "file_extension": ".py",
   "mimetype": "text/x-python",
   "name": "python",
   "nbconvert_exporter": "python",
   "pygments_lexer": "ipython3",
   "version": "3.6.5"
  }
 },
 "nbformat": 4,
 "nbformat_minor": 4
}
