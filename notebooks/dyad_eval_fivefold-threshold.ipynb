{
 "cells": [
  {
   "cell_type": "code",
   "execution_count": 1,
   "metadata": {},
   "outputs": [],
   "source": [
    "import numpy as np\n",
    "from sklearn import metrics\n",
    "import matplotlib.pyplot as plt\n",
    "from sklearn.metrics import auc\n",
    "import pandas as pd\n",
    "from tqdm import tqdm\n",
    "import os\n",
    "import os\n",
    "from sklearn.metrics import confusion_matrix"
   ]
  },
  {
   "cell_type": "code",
   "execution_count": 2,
   "metadata": {},
   "outputs": [],
   "source": [
    "def find_best_percent(result, granularity_all=1000):\n",
    "    \"\"\"\n",
    "    find threshold\n",
    "    :param result: sorted result\n",
    "    :param granularity_all: granularity_all\n",
    "    \"\"\"\n",
    "    max_percent = 0\n",
    "    best_n = 1\n",
    "    print(\"threshold tuning start:\")\n",
    "    for n in tqdm(range(1, 100)):\n",
    "        head_n = n / granularity_all\n",
    "        data_length = max(round(len(result) * head_n), 1)\n",
    "        count_dist = count_entries(result.loc[:data_length - 1], 'label')\n",
    "        try:\n",
    "            percent = count_dist['1'] / (count_dist['0'] + count_dist['1'])\n",
    "        except KeyError:\n",
    "            print(\"can't find n%,take 1%\")\n",
    "            percent = 0.01\n",
    "        if percent > max_percent:\n",
    "            max_percent = percent\n",
    "            best_n = n\n",
    "    print(\"top %d / %s is the highest, %s\" % (granularity_all, best_n, max_percent))\n",
    "    return best_n, max_percent, granularity_all\n",
    "\n",
    "def count_entries(df, col_name):\n",
    "    \"\"\"\n",
    "    count\n",
    "    \"\"\"\n",
    "    count_dist = {'0': 0, '1': 0}\n",
    "    col = df[col_name]\n",
    "    for entry in col:\n",
    "        if str(int(entry)) in count_dist.keys():\n",
    "            count_dist[str(int(entry))] = count_dist[str(int(entry))] + 1\n",
    "        else:\n",
    "            count_dist[str(int(entry))] = 1\n",
    "    return count_dist\n",
    "\n",
    "def find_best_result(threshold_n, result, dataframe_std):\n",
    "    \"\"\"\n",
    "    find_best_result\n",
    "    :param threshold_n: threshold\n",
    "    :param result: sorted result\n",
    "    :param dataframe_std: label\n",
    "    \"\"\"\n",
    "    best_result, best_h, best_re, best_fa, best_f1, best_precision = None, 0, 0, 0, 0, 0\n",
    "    best_auroc = 0\n",
    "    for h in tqdm(range(50, 1000, 50)):\n",
    "        train_result = charge_to_car(threshold_n, result, head_n=h)\n",
    "        f1, recall, false_rate, precision, accuracy, auroc = evaluation(dataframe_std, train_result)\n",
    "        if auroc >= best_auroc:\n",
    "            best_f1 = f1\n",
    "            best_h = h\n",
    "            best_re = recall\n",
    "            best_fa = false_rate\n",
    "            best_result = train_result\n",
    "            best_auroc = auroc\n",
    "    return best_result, best_h, best_re, best_fa, best_f1, best_auroc\n",
    "\n",
    "def charge_to_car(threshold_n, rec_result, head_n=92):\n",
    "    \"\"\"\n",
    "    mapping from charge to car\n",
    "    :param threshold_n: threshold\n",
    "    :param rec_result: sorted result\n",
    "    :param head_n: top %n\n",
    "    :param gran: granularity\n",
    "    \"\"\"\n",
    "    gran = 1000\n",
    "    result = []\n",
    "    for grp in rec_result.groupby('car'):\n",
    "        temp = grp[1].values[:, -1].astype(float)\n",
    "        idx = max(round(head_n / gran * len(temp)), 1)\n",
    "        error = np.mean(temp[:idx])\n",
    "        result.append([grp[0], int(error > threshold_n), error, threshold_n])\n",
    "    return pd.DataFrame(result, columns=['car', 'predict', 'error', 'threshold_n'])\n",
    "\n",
    "def evaluation(dataframe_std, dataframe):\n",
    "    \"\"\"\n",
    "    calculated statistics\n",
    "    :param dataframe_std:\n",
    "    :param dataframe:\n",
    "    :return:\n",
    "    \"\"\"\n",
    "\n",
    "    # calculate auroc\n",
    "#     print(dataframe) # error car\n",
    "    _label = []\n",
    "    for each_car in dataframe['car']:\n",
    "        if int(each_car) in ind_car_num_list:\n",
    "            _label.append(0)\n",
    "        if int(each_car) in ood_car_num_list:\n",
    "            _label.append(1)\n",
    "\n",
    "    fpr, tpr, thresholds = metrics.roc_curve(_label, list(dataframe['error']), pos_label=1)\n",
    "    auroc = auc(fpr, tpr)\n",
    "\n",
    "\n",
    "    data = pd.merge(dataframe_std, dataframe, on='car')\n",
    "    cm = confusion_matrix(data['label'].astype(int), data['predict'].astype(int))\n",
    "    tn = cm[0, 0]\n",
    "    fp = cm[0, 1]\n",
    "    fn = cm[1, 0]\n",
    "    tp = cm[1, 1]\n",
    "    precision = tp / (tp + fp) if tp + fp != 0 else 0\n",
    "    recall = tp / (tp + fn) if tp + fn != 0 else 0\n",
    "    false_rate = fp / (tn + fp) if tn + fp != 0 else 0\n",
    "    accuracy = (tp + tn) / (tp + tn + fp + fn) if tp + tn + fp + fn != 0 else 0\n",
    "    f1 = 2 * precision * recall / (precision + recall) if precision + recall != 0 else 0\n",
    "    return f1, recall, false_rate, precision, accuracy, auroc"
   ]
  },
  {
   "cell_type": "markdown",
   "metadata": {},
   "source": [
    "# You should change the following path."
   ]
  },
  {
   "cell_type": "code",
   "execution_count": 5,
   "metadata": {},
   "outputs": [],
   "source": [
    "test_res_csv_fold0 = pd.read_csv('../DyAD/dyad_vae_save/2022-09-08-10-56-31_fold0/result/test_segment_scores.csv')\n",
    "test_res_csv_fold1 = pd.read_csv('../DyAD/dyad_vae_save/2022-02-23-22-43-46_fold1/result/test_segment_scores.csv')\n",
    "test_res_csv_fold2 = pd.read_csv('../DyAD/dyad_vae_save/2022-02-23-22-43-51_fold2/result/test_segment_scores.csv')\n",
    "test_res_csv_fold3 = pd.read_csv('../DyAD/dyad_vae_save/2022-02-23-22-41-48_fold3/result/test_segment_scores.csv')\n",
    "test_res_csv_fold4 = pd.read_csv('../DyAD/dyad_vae_save/2022-02-23-22-43-48_fold4/result/test_segment_scores.csv')\n",
    "train_res_csv_fold0 = pd.read_csv('../DyAD/dyad_vae_save/2022-09-08-10-56-31_fold0/result/train_segment_scores.csv')\n",
    "train_res_csv_fold1 = pd.read_csv('../DyAD/dyad_vae_save/2022-02-23-22-43-46_fold1/result/train_segment_scores.csv')\n",
    "train_res_csv_fold2 = pd.read_csv('../DyAD/dyad_vae_save/2022-02-23-22-43-51_fold2/result/train_segment_scores.csv')\n",
    "train_res_csv_fold3 = pd.read_csv('../DyAD/dyad_vae_save/2022-02-23-22-41-48_fold3/result/train_segment_scores.csv')\n",
    "train_res_csv_fold4 = pd.read_csv('../DyAD/dyad_vae_save/2022-02-23-22-43-48_fold4/result/train_segment_scores.csv')"
   ]
  },
  {
   "cell_type": "code",
   "execution_count": 6,
   "metadata": {},
   "outputs": [
    {
     "name": "stdout",
     "output_type": "stream",
     "text": [
      "168\n",
      "30\n"
     ]
    }
   ],
   "source": [
    "# replace the following two car number lists\n",
    "ind_ood_car_dict = np.load('../five_fold_utils/ind_odd_dict1.npz.npy', allow_pickle=True).item()\n",
    "ind_car_num_list = ind_ood_car_dict['ind_sorted']\n",
    "ood_car_num_list = ind_ood_car_dict['ood_sorted'] \n",
    "all_car_num_list = set(ind_car_num_list + ood_car_num_list)\n",
    "print(len(ind_car_num_list))\n",
    "print(len(ood_car_num_list))"
   ]
  },
  {
   "cell_type": "code",
   "execution_count": 7,
   "metadata": {},
   "outputs": [
    {
     "name": "stdout",
     "output_type": "stream",
     "text": [
      "len(test_car_list) 57\n",
      "test_car_list {129, 3, 136, 138, 21, 150, 152, 153, 157, 158, 31, 34, 163, 36, 45, 173, 47, 174, 177, 50, 51, 49, 181, 54, 183, 182, 57, 186, 185, 184, 61, 190, 191, 66, 195, 194, 196, 68, 197, 72, 78, 79, 87, 92, 94, 95, 98, 99, 102, 103, 105, 107, 108, 114, 115, 119, 125}\n"
     ]
    },
    {
     "name": "stderr",
     "output_type": "stream",
     "text": [
      " 25%|██▌       | 25/99 [00:00<00:00, 238.67it/s]"
     ]
    },
    {
     "name": "stdout",
     "output_type": "stream",
     "text": [
      "threshold tuning start:\n"
     ]
    },
    {
     "name": "stderr",
     "output_type": "stream",
     "text": [
      "100%|██████████| 99/99 [00:01<00:00, 55.16it/s]\n",
      "  5%|▌         | 1/19 [00:00<00:02,  8.34it/s]"
     ]
    },
    {
     "name": "stdout",
     "output_type": "stream",
     "text": [
      "top 1000 / 4 is the highest, 0.0573025856044724\n",
      "threshold_n 0.07084409147500992\n",
      "start tuning, flag is rec_error\n"
     ]
    },
    {
     "name": "stderr",
     "output_type": "stream",
     "text": [
      "100%|██████████| 19/19 [00:02<00:00,  7.65it/s]\n"
     ]
    },
    {
     "name": "stdout",
     "output_type": "stream",
     "text": [
      "dataframe_std is  348 &&   dataframe is  141\n",
      "best 1000 / 950:\n",
      "re: 0.0\n",
      "fa: 0.007407407407407408\n",
      "F1: 0\n",
      "len(_score) 57\n",
      "AUC 0.8737373737373738\n",
      "\n",
      "len(test_car_list) 58\n",
      "test_car_list {2, 131, 130, 6, 7, 8, 136, 10, 140, 13, 142, 15, 141, 146, 18, 148, 21, 22, 23, 24, 150, 29, 160, 166, 41, 169, 171, 46, 175, 48, 174, 182, 183, 56, 185, 184, 187, 62, 191, 64, 192, 194, 196, 68, 198, 197, 75, 78, 86, 91, 93, 98, 101, 107, 108, 110, 116, 119}\n"
     ]
    },
    {
     "ename": "NameError",
     "evalue": "name 'train_res_csv_fold1' is not defined",
     "output_type": "error",
     "traceback": [
      "\u001b[0;31m---------------------------------------------------------------------------\u001b[0m",
      "\u001b[0;31mNameError\u001b[0m                                 Traceback (most recent call last)",
      "\u001b[0;32m<ipython-input-7-8936d7ac4b8a>\u001b[0m in \u001b[0;36m<module>\u001b[0;34m()\u001b[0m\n\u001b[1;32m     13\u001b[0m     \u001b[0mtest_res_csv\u001b[0m \u001b[0;34m=\u001b[0m \u001b[0mpd\u001b[0m\u001b[0;34m.\u001b[0m\u001b[0mDataFrame\u001b[0m\u001b[0;34m(\u001b[0m\u001b[0;34m)\u001b[0m\u001b[0;34m\u001b[0m\u001b[0m\n\u001b[1;32m     14\u001b[0m     \u001b[0;32mfor\u001b[0m \u001b[0meach_car\u001b[0m \u001b[0;32min\u001b[0m \u001b[0mtrain_car_list\u001b[0m\u001b[0;34m:\u001b[0m\u001b[0;34m\u001b[0m\u001b[0m\n\u001b[0;32m---> 15\u001b[0;31m         \u001b[0mtrain_res_csv\u001b[0m \u001b[0;34m=\u001b[0m \u001b[0mpd\u001b[0m\u001b[0;34m.\u001b[0m\u001b[0mconcat\u001b[0m\u001b[0;34m(\u001b[0m\u001b[0;34m[\u001b[0m\u001b[0mtrain_res_csv\u001b[0m\u001b[0;34m,\u001b[0m \u001b[0meval\u001b[0m\u001b[0;34m(\u001b[0m\u001b[0;34m'train_res_csv_fold%d'\u001b[0m \u001b[0;34m%\u001b[0m \u001b[0mi\u001b[0m\u001b[0;34m)\u001b[0m\u001b[0;34m[\u001b[0m\u001b[0meval\u001b[0m\u001b[0;34m(\u001b[0m\u001b[0;34m'train_res_csv_fold%d'\u001b[0m \u001b[0;34m%\u001b[0m \u001b[0mi\u001b[0m\u001b[0;34m)\u001b[0m\u001b[0;34m[\u001b[0m\u001b[0;34m'car'\u001b[0m\u001b[0;34m]\u001b[0m\u001b[0;34m==\u001b[0m\u001b[0meach_car\u001b[0m\u001b[0;34m]\u001b[0m\u001b[0;34m]\u001b[0m\u001b[0;34m,\u001b[0m \u001b[0maxis\u001b[0m\u001b[0;34m=\u001b[0m\u001b[0;36m0\u001b[0m\u001b[0;34m,\u001b[0m\u001b[0mignore_index\u001b[0m\u001b[0;34m=\u001b[0m\u001b[0;32mTrue\u001b[0m\u001b[0;34m)\u001b[0m\u001b[0;34m\u001b[0m\u001b[0m\n\u001b[0m\u001b[1;32m     16\u001b[0m         \u001b[0mtrain_res_csv\u001b[0m \u001b[0;34m=\u001b[0m \u001b[0mpd\u001b[0m\u001b[0;34m.\u001b[0m\u001b[0mconcat\u001b[0m\u001b[0;34m(\u001b[0m\u001b[0;34m[\u001b[0m\u001b[0mtrain_res_csv\u001b[0m\u001b[0;34m,\u001b[0m \u001b[0meval\u001b[0m\u001b[0;34m(\u001b[0m\u001b[0;34m'test_res_csv_fold%d'\u001b[0m \u001b[0;34m%\u001b[0m \u001b[0mi\u001b[0m\u001b[0;34m)\u001b[0m\u001b[0;34m[\u001b[0m\u001b[0meval\u001b[0m\u001b[0;34m(\u001b[0m\u001b[0;34m'test_res_csv_fold%d'\u001b[0m \u001b[0;34m%\u001b[0m \u001b[0mi\u001b[0m\u001b[0;34m)\u001b[0m\u001b[0;34m[\u001b[0m\u001b[0;34m'car'\u001b[0m\u001b[0;34m]\u001b[0m\u001b[0;34m==\u001b[0m\u001b[0meach_car\u001b[0m\u001b[0;34m]\u001b[0m\u001b[0;34m]\u001b[0m\u001b[0;34m,\u001b[0m \u001b[0maxis\u001b[0m\u001b[0;34m=\u001b[0m\u001b[0;36m0\u001b[0m\u001b[0;34m,\u001b[0m\u001b[0mignore_index\u001b[0m\u001b[0;34m=\u001b[0m\u001b[0;32mTrue\u001b[0m\u001b[0;34m)\u001b[0m\u001b[0;34m\u001b[0m\u001b[0m\n\u001b[1;32m     17\u001b[0m     \u001b[0;32mfor\u001b[0m \u001b[0meach_car\u001b[0m \u001b[0;32min\u001b[0m \u001b[0mtest_car_list\u001b[0m\u001b[0;34m:\u001b[0m\u001b[0;34m\u001b[0m\u001b[0m\n",
      "\u001b[0;32m<string>\u001b[0m in \u001b[0;36m<module>\u001b[0;34m()\u001b[0m\n",
      "\u001b[0;31mNameError\u001b[0m: name 'train_res_csv_fold1' is not defined"
     ]
    },
    {
     "data": {
      "image/png": "[encoded data removed]",
      "text/plain": [
       "<Figure size 432x288 with 1 Axes>"
      ]
     },
     "metadata": {},
     "output_type": "display_data"
    }
   ],
   "source": [
    "AUC_fivefold_list = []\n",
    "\n",
    "for i in range(5):\n",
    "    \n",
    "    fold_num = i\n",
    "    test_car_list = ind_car_num_list[int(fold_num * len(ind_car_num_list) / 5):int((fold_num + 1) * len(ind_car_num_list) / 5)] + ood_car_num_list[:int(fold_num * len(ood_car_num_list) / 5)] + ood_car_num_list[int((fold_num + 1) * len(ood_car_num_list) / 5):]\n",
    "    test_car_list = set(test_car_list)\n",
    "    train_car_list = all_car_num_list - test_car_list\n",
    "    print('len(test_car_list)', len(test_car_list))\n",
    "    print('test_car_list', test_car_list)\n",
    "    \n",
    "    train_res_csv = pd.DataFrame()\n",
    "    test_res_csv = pd.DataFrame()\n",
    "    for each_car in train_car_list:\n",
    "        train_res_csv = pd.concat([train_res_csv, eval('train_res_csv_fold%d' % i)[eval('train_res_csv_fold%d' % i)['car']==each_car]], axis=0,ignore_index=True)\n",
    "        train_res_csv = pd.concat([train_res_csv, eval('test_res_csv_fold%d' % i)[eval('test_res_csv_fold%d' % i)['car']==each_car]], axis=0,ignore_index=True)\n",
    "    for each_car in test_car_list:\n",
    "        test_res_csv = pd.concat([test_res_csv, eval('train_res_csv_fold%d' % i)[eval('train_res_csv_fold%d' % i)['car']==each_car]], axis=0,ignore_index=True)\n",
    "        test_res_csv = pd.concat([test_res_csv, eval('test_res_csv_fold%d' % i)[eval('test_res_csv_fold%d' % i)['car']==each_car]], axis=0,ignore_index=True)\n",
    "    \n",
    "    \n",
    "    train_res_csv = np.array(train_res_csv)[:, 1:]\n",
    "    test_res_csv = np.array(test_res_csv)[:, 1:]\n",
    "    train_res_csv = np.vstack((train_res_csv[:,1], train_res_csv[:,0], train_res_csv[:,2])).T\n",
    "    test_res_csv = np.vstack((test_res_csv[:,1], test_res_csv[:,0], test_res_csv[:,2])).T\n",
    "    \n",
    "#     print(train_res_csv[5:,])\n",
    "#     print(test_res_csv[5:,])\n",
    "#     assert 1==0\n",
    "    \n",
    "    rec_sorted_index = np.argsort(-train_res_csv[:, 2].astype(float))\n",
    "    res = [train_res_csv[i][[1, 0, 2]] for i in rec_sorted_index]\n",
    "    result = pd.DataFrame(res, columns=['car', 'label', 'rec_error'])\n",
    "    result['car'] = result['car'].astype(\"int\").astype(\"str\")\n",
    "    \n",
    "    best_n, max_percent, granularity = find_best_percent(result, granularity_all=1000)\n",
    "    head_n = best_n / granularity\n",
    "    data_length = round(len(result) * head_n)\n",
    "    threshold_n = result['rec_error'].values[data_length - 1].astype(float)\n",
    "    \n",
    "    print(\"threshold_n\", threshold_n)\n",
    "    print(\"start tuning, flag is\", 'rec_error')\n",
    "    # dtype = object\n",
    "    dataframe_std1 = pd.read_csv(os.path.join('../data/battery_brand1/label', \"train_label.csv\"), dtype=object)\n",
    "    dataframe_std2 = pd.read_csv(os.path.join('../data/battery_brand1/label', \"test_label.csv\"), dtype=object)\n",
    "    dataframe_std3 = pd.read_csv(os.path.join('../data/battery_brand2/label', \"train_label.csv\"), dtype=object)\n",
    "    dataframe_std4 = pd.read_csv(os.path.join('../data/battery_brand2/label', \"test_label.csv\"), dtype=object)\n",
    "    dataframe_std5 = pd.read_csv(os.path.join('../data/battery_brand4/label', \"all_label.csv\"), dtype=object)\n",
    "    dataframe_std = pd.concat([dataframe_std1, dataframe_std2, dataframe_std3, dataframe_std4, dataframe_std5], axis=0,ignore_index=True)\n",
    "    assert max(dataframe_std['car'].astype(\"int\"))>300\n",
    "    assert 201 in dataframe_std['car'].astype(\"int\")\n",
    "    best_result, best_h, best_re, best_fa, best_f1, best_auroc = find_best_result(threshold_n, result, dataframe_std)\n",
    "    # best_result.to_csv(os.path.join(self.args.result_path, \"train_res.csv\")),\n",
    "    if dataframe_std.shape[0] == best_result.shape[0]:\n",
    "        pass\n",
    "    else:\n",
    "        print('dataframe_std is ', dataframe_std.shape[0], '&&   dataframe is ', best_result.shape[0])\n",
    "    print(\"best 1000 / %d:\" % best_h)\n",
    "    print(\"re:\", best_re)\n",
    "    print(\"fa:\", best_fa)\n",
    "    print(\"F1:\", best_f1)\n",
    "    \n",
    "    rec_sorted_index = np.argsort(-test_res_csv[:, 2].astype(float))\n",
    "    res = [test_res_csv[i][[1, 0, 2]] for i in rec_sorted_index]\n",
    "    result = pd.DataFrame(res, columns=['car', 'label', 'rec_error'])\n",
    "    result['car'] = result['car'].astype(\"int\").astype(\"str\")\n",
    "    # result.to_csv(os.path.join(self.args.result_path, \"test_segment_scores.csv\"))\n",
    "    test_result = charge_to_car(threshold_n, result, head_n=best_h)\n",
    "    \n",
    "    _score = list(test_result['error'])\n",
    "    _label = []\n",
    "    for each_car in test_result['car']:\n",
    "        if int(each_car) in ind_car_num_list:\n",
    "            _label.append(0)\n",
    "        if int(each_car) in ood_car_num_list:\n",
    "            _label.append(1)\n",
    "    \n",
    "    print('len(_score)', len(_score))\n",
    "    fpr, tpr, thresholds = metrics.roc_curve(_label, _score, pos_label=1)\n",
    "    plt.plot(fpr, tpr)\n",
    "#     plt.show()\n",
    "    AUC = auc(fpr, tpr)\n",
    "    print('AUC', AUC)\n",
    "    \n",
    "    os.makedirs('../DyAD/auc', exist_ok=True)\n",
    "    np.save('../DyAD/auc/robust_all_score_fold%d' % fold_num, _score)\n",
    "    np.save('../DyAD/auc/robust_labels_fold%d' % fold_num, _label)\n",
    "    \n",
    "    AUC_fivefold_list.append(AUC)\n",
    "    print()\n",
    "\n",
    "print('AUC mean ', np.mean(AUC_fivefold_list))\n"
   ]
  },
  {
   "cell_type": "code",
   "execution_count": 13,
   "metadata": {},
   "outputs": [],
   "source": [
    "plt.show()"
   ]
  },
  {
   "cell_type": "code",
   "execution_count": null,
   "metadata": {},
   "outputs": [],
   "source": []
  },
  {
   "cell_type": "code",
   "execution_count": null,
   "metadata": {},
   "outputs": [],
   "source": []
  },
  {
   "cell_type": "code",
   "execution_count": null,
   "metadata": {},
   "outputs": [],
   "source": []
  },
  {
   "cell_type": "code",
   "execution_count": null,
   "metadata": {},
   "outputs": [],
   "source": []
  },
  {
   "cell_type": "code",
   "execution_count": null,
   "metadata": {},
   "outputs": [],
   "source": []
  }
 ],
 "metadata": {
  "kernelspec": {
   "display_name": "Python 3",
   "language": "python",
   "name": "python3"
  },
  "language_info": {
   "codemirror_mode": {
    "name": "ipython",
    "version": 3
   },
   "file_extension": ".py",
   "mimetype": "text/x-python",
   "name": "python",
   "nbconvert_exporter": "python",
   "pygments_lexer": "ipython3",
   "version": "3.6.5"
  }
 },
 "nbformat": 4,
 "nbformat_minor": 4
}
