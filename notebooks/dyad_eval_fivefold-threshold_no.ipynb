{
 "cells": [
  {
   "cell_type": "code",
   "execution_count": 14,
   "metadata": {},
   "outputs": [],
   "source": [
    "import numpy as np\n",
    "from sklearn import metrics\n",
    "import matplotlib.pyplot as plt\n",
    "from sklearn.metrics import auc\n",
    "import pandas as pd\n",
    "from tqdm import tqdm\n",
    "import os\n",
    "import os\n",
    "from sklearn.metrics import confusion_matrix"
   ]
  },
  {
   "cell_type": "code",
   "execution_count": 15,
   "metadata": {},
   "outputs": [],
   "source": [
    "# path = '../DyAD/dyad_vae_save'\n",
    "# path_list = os.listdir('../DyAD/dyad_vae_save')\n",
    "# data = '2022-02-23-22-43-46_fold1'\n",
    "# test_res_csv_fold0_path = os.path.join(os.path.join(path,data),'result/test_segment_scores.csv')\n",
    "# train_res_csv_fold0_path = os.path.join(os.path.join(path,data),'result/train_segment_scores.csv')"
   ]
  },
  {
   "cell_type": "markdown",
   "metadata": {},
   "source": [
    "# You should change the following path."
   ]
  },
  {
   "cell_type": "code",
   "execution_count": 18,
   "metadata": {},
   "outputs": [],
   "source": [
    "test_res_csv_fold0 = pd.read_csv('../DyAD/dyad_vae_save/2022-09-08-10-56-31_fold0/result/test_segment_scores.csv')\n",
    "test_res_csv_fold1 = pd.read_csv('../DyAD/dyad_vae_save/2022-02-23-22-43-46_fold1/result/test_segment_scores.csv')\n",
    "test_res_csv_fold2 = pd.read_csv('../DyAD/dyad_vae_save/2022-02-23-22-43-51_fold2/result/test_segment_scores.csv')\n",
    "test_res_csv_fold3 = pd.read_csv('../DyAD/dyad_vae_save/2022-02-23-22-41-48_fold3/result/test_segment_scores.csv')\n",
    "test_res_csv_fold4 = pd.read_csv('../DyAD/dyad_vae_save/2022-02-23-22-43-48_fold4/result/test_segment_scores.csv')\n",
    "train_res_csv_fold0 = pd.read_csv('../DyAD/dyad_vae_save/2022-09-08-10-56-31_fold0/result/train_segment_scores.csv')\n",
    "train_res_csv_fold1 = pd.read_csv('../DyAD/dyad_vae_save/2022-02-23-22-43-46_fold1/result/train_segment_scores.csv')\n",
    "train_res_csv_fold2 = pd.read_csv('../DyAD/dyad_vae_save/2022-02-23-22-43-51_fold2/result/train_segment_scores.csv')\n",
    "train_res_csv_fold3 = pd.read_csv('../DyAD/dyad_vae_save/2022-02-23-22-41-48_fold3/result/train_segment_scores.csv')\n",
    "train_res_csv_fold4 = pd.read_csv('../DyAD/dyad_vae_save/2022-02-23-22-43-48_fold4/result/train_segment_scores.csv')"
   ]
  },
  {
   "cell_type": "code",
   "execution_count": 19,
   "metadata": {},
   "outputs": [
    {
     "name": "stdout",
     "output_type": "stream",
     "text": [
      "168\n",
      "30\n"
     ]
    }
   ],
   "source": [
    "# replace the following two car number lists\n",
    "ind_ood_car_dict = np.load('../five_fold_utils/ind_odd_dict1.npz.npy', allow_pickle=True).item()\n",
    "ind_car_num_list = ind_ood_car_dict['ind_sorted']\n",
    "ood_car_num_list = ind_ood_car_dict['ood_sorted'] \n",
    "all_car_num_list = set(ind_car_num_list + ood_car_num_list)\n",
    "\n",
    "print(len(ind_car_num_list))\n",
    "print(len(ood_car_num_list))"
   ]
  },
  {
   "cell_type": "code",
   "execution_count": 22,
   "metadata": {},
   "outputs": [
    {
     "data": {
      "image/png": "[encoded data removed]",
      "text/plain": [
       "<Figure size 432x288 with 1 Axes>"
      ]
     },
     "metadata": {},
     "output_type": "display_data"
    },
    {
     "name": "stdout",
     "output_type": "stream",
     "text": [
      "0.8737373737373738\n",
      "AUC mean  0.8737373737373738\n"
     ]
    }
   ],
   "source": [
    "AUC_fivefold_list = []\n",
    "# for i in range(5):\n",
    "for i in range(1):\n",
    "    fold_num = i\n",
    "    \n",
    "    validation_car_number = ind_car_num_list[:int(fold_num * len(ind_car_num_list) / 5)] + ind_car_num_list[int((fold_num + 1) * len(ind_car_num_list) / 5):] + ood_car_num_list[int(fold_num * len(ood_car_num_list) / 5):int((fold_num + 1) * len(ood_car_num_list) / 5)]\n",
    "    # test_car_number = ind_car_num_list[int(fold_num * len(ind_car_num_list) / 5):int((fold_num + 1) * len(ind_car_num_list) / 5)] + ood_car_num_list[:int(fold_num * len(ood_car_num_list) / 5)] + ood_car_num_list[int((fold_num + 1) * len(ood_car_num_list) / 5):]\n",
    "    test_car_number = ind_car_num_list[int(fold_num * len(ind_car_num_list) / 5):int((fold_num + 1) * len(ind_car_num_list) / 5)] + ood_car_num_list[:int(fold_num * len(ood_car_num_list) / 5)] + ood_car_num_list[int((fold_num + 1) * len(ood_car_num_list) / 5):]\n",
    "    \n",
    "    data = np.vstack((np.array(eval('train_res_csv_fold%d' % i)), np.array(eval('test_res_csv_fold%d' % i))))[:, 1:]\n",
    "#     print(data[0:5])\n",
    "    \n",
    "    ind_car_score = []\n",
    "    ood_car_score = []\n",
    "\n",
    "    for each_car_num in test_car_number:\n",
    "        this_car_score = np.mean(data[np.where(data[:, 0]==each_car_num)][:, 2])\n",
    "        if each_car_num in ind_car_num_list:\n",
    "            ind_car_score.append(this_car_score)\n",
    "        else:\n",
    "            ood_car_score.append(this_car_score)\n",
    "    #     print(each_car_num, len(this_car_score))\n",
    "    \n",
    "    label = [1] * len(ood_car_score) + [0] * len(ind_car_score)\n",
    "    score = np.hstack((ood_car_score, ind_car_score))\n",
    "\n",
    "    fpr, tpr, thresholds = metrics.roc_curve(label, score, pos_label=1)\n",
    "    plt.plot(fpr, tpr)\n",
    "    plt.show()\n",
    "    AUC = auc(fpr, tpr)\n",
    "    print(AUC)\n",
    "    os.makedirs('../DyAD/auc', exist_ok=True)\n",
    "    np.save('../DyAD/auc/average_all_score_fold%d.npy' % fold_num, score)\n",
    "    np.save('../DyAD/auc/average_labels_fold%d.npy' % fold_num, label)\n",
    "    \n",
    "    AUC_fivefold_list.append(AUC)\n",
    "    \n",
    "print('AUC mean ', np.mean(AUC_fivefold_list))\n"
   ]
  },
  {
   "cell_type": "code",
   "execution_count": 13,
   "metadata": {},
   "outputs": [],
   "source": [
    "plt.show()"
   ]
  },
  {
   "cell_type": "code",
   "execution_count": null,
   "metadata": {},
   "outputs": [],
   "source": []
  },
  {
   "cell_type": "code",
   "execution_count": null,
   "metadata": {},
   "outputs": [],
   "source": []
  },
  {
   "cell_type": "code",
   "execution_count": null,
   "metadata": {},
   "outputs": [],
   "source": []
  },
  {
   "cell_type": "code",
   "execution_count": null,
   "metadata": {},
   "outputs": [],
   "source": []
  }
 ],
 "metadata": {
  "kernelspec": {
   "display_name": "Python 3",
   "language": "python",
   "name": "python3"
  },
  "language_info": {
   "codemirror_mode": {
    "name": "ipython",
    "version": 3
   },
   "file_extension": ".py",
   "mimetype": "text/x-python",
   "name": "python",
   "nbconvert_exporter": "python",
   "pygments_lexer": "ipython3",
   "version": "3.6.5"
  }
 },
 "nbformat": 4,
 "nbformat_minor": 4
}
