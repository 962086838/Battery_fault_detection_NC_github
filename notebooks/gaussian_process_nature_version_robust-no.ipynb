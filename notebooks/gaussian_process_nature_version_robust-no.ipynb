{
 "cells": [
  {
   "cell_type": "code",
   "execution_count": 12,
   "metadata": {},
   "outputs": [],
   "source": [
    "# for i in range(168):\n",
    "#     print(f\"python gaussian\\ process.py --fold_num 0 --dataset zhonghang --start {i} & \")"
   ]
  },
  {
   "cell_type": "code",
   "execution_count": 1,
   "metadata": {},
   "outputs": [],
   "source": [
    "import os\n",
    "import sys\n",
    "import numpy as np\n",
    "import pandas as pd\n",
    "import torch\n",
    "# from pyod.models.iforest import IForest\n",
    "from sklearn.metrics import confusion_matrix\n",
    "from tqdm import tqdm\n",
    "from sklearn import metrics\n",
    "import matplotlib.pyplot as plt\n",
    "from sklearn.metrics import auc"
   ]
  },
  {
   "cell_type": "code",
   "execution_count": null,
   "metadata": {},
   "outputs": [],
   "source": []
  },
  {
   "cell_type": "code",
   "execution_count": 33,
   "metadata": {},
   "outputs": [],
   "source": [
    "dataset_name = 'brand1'\n",
    "ind_car_num_list = [129, 158, 152, 79, 95\n",
    "        , 114, 34, 177, 99, 138, 163, 54, 45, 115, 66, 87, 47, 57, 31, 195, 36, 102,\n",
    "                        72, 173, 94, 51, 92, 61, 153, 125, 103, 3, 50, 10, 7, 146, 166, 48, 75, 86, 15, 175, 64, 2, 110, 13,\n",
    "                        23, 93, 116, 62, 8, 41, 22, 6, 24, 101, 46, 187, 198, 142, 131, 18, 160, 56, 29, 141, 148, 168, 71,\n",
    "                        53, 104, 120, 154, 20, 17, 111, 133, 63, 35, 83, 5, 88, 159, 145, 176, 127, 77, 118, 52, 81, 121,\n",
    "                        59, 38, 80, 109, 179, 28, 123, 44, 180, 149, 135, 164, 74, 40, 14, 65, 69, 42, 193, 12, 60, 73, 126,\n",
    "                        161, 188, 32, 30, 170, 128, 167, 9, 155, 156, 43, 100, 33, 90, 139, 1, 112, 25, 4, 16, 189, 147,\n",
    "                        124, 178, 55, 85, 122, 96, 162, 132, 89, 19, 27, 84, 39, 151, 67, 26, 172, 76, 37, 143, 58, 165, 97,\n",
    "                        134, 82, 113, 137, 144, 70, 11, 117, 106]  # 169\n",
    "ood_car_num_list = [91, 192, 169, 130, 140\n",
    "    , 171, 190, 186, 105, 49, 181, 157, 183, 185, 194, 98, 191, 136, 119, 196, 107, 68, 108, 78, 182, 150, 174, 21, 184, 197]\n",
    "\n",
    "\n",
    "# dataset_name = 'brand2'\n",
    "# ind_car_num_list = [214, 231, 233, 234, 218, 201, 211, 248, 222, 203, 223, 246, 229, 249, 227, 207, 232, 250, 208, 245,\n",
    "#                         213, 228, 220, 244, 217, 238, 221, 224, 226, 216, 202, 242, 235]  # 33\n",
    "# ood_car_num_list = [205, 247, 241, 204, 206, 210, 243, 240, 219, 225, 209, 237, 236, 212, 215, 239]\n",
    "\n",
    "\n",
    "# dataset_name = 'brand3'\n",
    "# ind_car_num_list = [411, 410, 434, 449, 423, 414, 431, 485, 446, 466, 453, 480, 455, 488, 402, 439, 427, 409, 442,\n",
    "#                         448, 428, 452, 429, 484, 482, 457, 459, 499, 413, 461, 403, 470, 481, 493, 417, 496, 407, 495,\n",
    "#                         418, 426, 436, 491, 500, 474, 476, 487, 430, 451, 498, 401, 463, 494, 406, 420, 497, 433, 435,\n",
    "#                         440, 416, 464, 445, 479, 425, 460, 490, 478, 467, 447, 412, 489, 444, 422, 477, 437, 415, 486,\n",
    "#                         441, 421, 471, 432, 483, 450, 468, 443, 456, 469, 472, 438, 408, 458, 454]\n",
    "# ood_car_num_list = [424, 419, 473, 462, 492, 465, 404, 405, 475]\n",
    "\n",
    "\n",
    "#     dataframe_std3['car'] = (dataframe_std3['car'].astype(\"int\")+200).astype(\"str\")\n",
    "#     dataframe_std4['car'] = (dataframe_std4['car'].astype(\"int\")+200).astype(\"str\")\n",
    "#     dataframe_std5['car'] = (dataframe_std5['car'].astype(\"int\")+300).astype(\"str\")\n",
    "\n",
    "# print(dataframe_std)\n"
   ]
  },
  {
   "cell_type": "code",
   "execution_count": 34,
   "metadata": {},
   "outputs": [
    {
     "name": "stdout",
     "output_type": "stream",
     "text": [
      "91\n",
      "9\n"
     ]
    }
   ],
   "source": [
    "ind_car_num = len(ind_car_num_list)\n",
    "ood_car_num = len(ood_car_num_list)\n",
    "print(ind_car_num)\n",
    "print(ood_car_num)"
   ]
  },
  {
   "cell_type": "code",
   "execution_count": null,
   "metadata": {},
   "outputs": [],
   "source": []
  },
  {
   "cell_type": "code",
   "execution_count": 35,
   "metadata": {},
   "outputs": [],
   "source": [
    "fold_num = 0"
   ]
  },
  {
   "cell_type": "code",
   "execution_count": 36,
   "metadata": {},
   "outputs": [
    {
     "name": "stdout",
     "output_type": "stream",
     "text": [
      "(27824,) (0,) (1774,) (1774,)\n",
      "27824\n",
      "1774\n",
      "(27824,)\n",
      "(1774,)\n",
      "(27824, 3)\n",
      "(1774, 3)\n",
      "(29598, 3)\n"
     ]
    },
    {
     "data": {
      "image/png": "[encoded data removed]",
      "text/plain": [
       "<Figure size 432x288 with 1 Axes>"
      ]
     },
     "metadata": {
      "needs_background": "light"
     },
     "output_type": "display_data"
    },
    {
     "name": "stdout",
     "output_type": "stream",
     "text": [
      "0.8819444444444444\n"
     ]
    }
   ],
   "source": [
    "AUC_list = []\n",
    "\n",
    "y_train_scores = [np.load(f'gaussian_process/{dataset_name}/y_train_scores_fold0_start{_i}.npy') for _i in range(ind_car_num)]\n",
    "y_train_scores = np.hstack(y_train_scores)\n",
    "y_test_pred = [np.load(f'gaussian_process/{dataset_name}/y_test_pred_fold0_start{_i}.npy') for _i in range(ood_car_num)]\n",
    "y_test_pred = np.hstack(y_test_pred)\n",
    "y_test_scores = [np.load(f'gaussian_process/{dataset_name}/y_test_scores_fold0_start{_i}.npy') for _i in range(ood_car_num)]\n",
    "y_test_scores = np.hstack(y_test_scores)\n",
    "y_test = [np.load(f'gaussian_process/{dataset_name}/y_test_fold0_start{_i}.npy').reshape(-1) for _i in range(ood_car_num)]\n",
    "y_test = np.hstack(y_test)\n",
    "\n",
    "print(y_train_scores.shape, y_test_pred.shape, y_test_scores.shape, y_test.shape)\n",
    "\n",
    "# ind_car_num_list = [411, 410, 434, 449, 423, 414, 431, 485, 446, 466, 453, 480, 455, 488, 402, 439, 427, 409, 442, 448, 428, 452, 429, 484, 482, 457, 459, 499, 413, 461, 403, 470, 481, 493, 417, 496, 407, 495, 418, 426, 436, 491, 500, 474, 476, 487, 430, 451, 498, 401, 463, 494, 406, 420, 497, 433, 435, 440, 416, 464, 445, 479, 425, 460, 490, 478, 467, 447, 412, 489, 444, 422, 477, 437, 415, 486, 441, 421, 471, 432, 483, 450, 468, 443, 456, 469, 472, 438, 408, 458, 454]\n",
    "# ood_car_num_list = [424, 419, 473, 462, 492, 465, 404, 405, 475]\n",
    "\n",
    "\n",
    "car_number_train = ind_car_num_list\n",
    "car_number_test = ood_car_num_list\n",
    "\n",
    "# build 3 column csv file\n",
    "all_car_dict = np.load('../five_fold_utils/all_car_dict.npz.npy', allow_pickle=True).item()\n",
    "\n",
    "car_train = []\n",
    "for each_num in car_number_train:\n",
    "    for each_pkl in all_car_dict[each_num]:\n",
    "        car_train.append(each_num)\n",
    "car_test = []\n",
    "for each_num in car_number_test:\n",
    "    for each_pkl in all_car_dict[each_num]:\n",
    "        car_test.append(each_num)\n",
    "print(len(car_train))\n",
    "print(len(car_test))\n",
    "car_train = np.array(car_train)\n",
    "car_test = np.array(car_test)\n",
    "\n",
    "\n",
    "print(y_train_scores.shape)\n",
    "print(y_test_scores.shape)\n",
    "\n",
    "car_label_train = []\n",
    "car_label_test = []\n",
    "\n",
    "for each in car_train:\n",
    "    if each in ind_car_num_list:\n",
    "        car_label_train.append(0)\n",
    "    if each in ood_car_num_list:\n",
    "        car_label_train.append(1)\n",
    "for each in car_test:\n",
    "    if each in ind_car_num_list:\n",
    "        car_label_test.append(0)\n",
    "    if each in ood_car_num_list:\n",
    "        car_label_test.append(1)\n",
    "car_label_train = np.array(car_label_train)\n",
    "car_label_test = np.array(car_label_test)\n",
    "\n",
    "data_train = np.vstack((car_label_train, car_train, y_train_scores)).T\n",
    "data_test = np.vstack((car_label_test, car_test, y_test_scores)).T\n",
    "\n",
    "data = np.vstack((data_train, data_test))\n",
    "\n",
    "print(data_train.shape)\n",
    "print(data_test.shape)\n",
    "#     print(data_train[:5, ])\n",
    "print(data.shape)\n",
    "\n",
    "validation_car_number = ind_car_num_list[:int(fold_num * len(ind_car_num_list) / 5)] + ind_car_num_list[int((fold_num + 1) * len(ind_car_num_list) / 5):] + ood_car_num_list[int(fold_num * len(ood_car_num_list) / 5):int((fold_num + 1) * len(ood_car_num_list) / 5)]\n",
    "test_car_number = ind_car_num_list[int(fold_num * len(ind_car_num_list) / 5):int((fold_num + 1) * len(ind_car_num_list) / 5)] + ood_car_num_list[:int(fold_num * len(ood_car_num_list) / 5)] + ood_car_num_list[int((fold_num + 1) * len(ood_car_num_list) / 5):]\n",
    "\n",
    "ind_car_score = []\n",
    "ood_car_score = []\n",
    "\n",
    "for each_car_num in test_car_number:\n",
    "    this_car_score = np.mean(data[np.where(data[:, 1]==each_car_num)][:, 2])\n",
    "    if each_car_num in ind_car_num_list:\n",
    "        ind_car_score.append(this_car_score)\n",
    "    else:\n",
    "        ood_car_score.append(this_car_score)\n",
    "#     print(each_car_num, len(this_car_score))\n",
    "\n",
    "label = [1] * len(ood_car_score) + [0] * len(ind_car_score)\n",
    "score = np.hstack((ood_car_score, ind_car_score))\n",
    "\n",
    "fpr, tpr, thresholds = metrics.roc_curve(label, score, pos_label=1)\n",
    "plt.plot(fpr, tpr)\n",
    "plt.show()\n",
    "AUC = auc(fpr, tpr)\n",
    "print(AUC)\n",
    "AUC_list.append(AUC)\n",
    "\n",
    "\n",
    "np.save(f'gaussian_process/{dataset_name}/gp_robust_no_score_fold%d.npy' % fold_num, score)\n",
    "np.save(f'gaussian_process/{dataset_name}/gp_robust_no_label_fold%d.npy' % fold_num, label)\n"
   ]
  },
  {
   "cell_type": "code",
   "execution_count": null,
   "metadata": {},
   "outputs": [],
   "source": []
  },
  {
   "cell_type": "code",
   "execution_count": null,
   "metadata": {},
   "outputs": [],
   "source": []
  },
  {
   "cell_type": "code",
   "execution_count": null,
   "metadata": {},
   "outputs": [],
   "source": []
  },
  {
   "cell_type": "code",
   "execution_count": null,
   "metadata": {},
   "outputs": [],
   "source": []
  },
  {
   "cell_type": "code",
   "execution_count": null,
   "metadata": {},
   "outputs": [],
   "source": []
  },
  {
   "cell_type": "code",
   "execution_count": 46,
   "metadata": {},
   "outputs": [],
   "source": [
    "y_train_scores = []\n",
    "y_test_pred = []\n",
    "y_test_scores = []\n",
    "y_test = []\n",
    "\n",
    "ind_car_num_list = []\n",
    "ood_car_num_list = []\n",
    "\n",
    "dataset_name = 'brand1'\n",
    "ind_car_num_list = [129, 158, 152, 79, 95\n",
    "        , 114, 34, 177, 99, 138, 163, 54, 45, 115, 66, 87, 47, 57, 31, 195, 36, 102,\n",
    "                        72, 173, 94, 51, 92, 61, 153, 125, 103, 3, 50, 10, 7, 146, 166, 48, 75, 86, 15, 175, 64, 2, 110, 13,\n",
    "                        23, 93, 116, 62, 8, 41, 22, 6, 24, 101, 46, 187, 198, 142, 131, 18, 160, 56, 29, 141, 148, 168, 71,\n",
    "                        53, 104, 120, 154, 20, 17, 111, 133, 63, 35, 83, 5, 88, 159, 145, 176, 127, 77, 118, 52, 81, 121,\n",
    "                        59, 38, 80, 109, 179, 28, 123, 44, 180, 149, 135, 164, 74, 40, 14, 65, 69, 42, 193, 12, 60, 73, 126,\n",
    "                        161, 188, 32, 30, 170, 128, 167, 9, 155, 156, 43, 100, 33, 90, 139, 1, 112, 25, 4, 16, 189, 147,\n",
    "                        124, 178, 55, 85, 122, 96, 162, 132, 89, 19, 27, 84, 39, 151, 67, 26, 172, 76, 37, 143, 58, 165, 97,\n",
    "                        134, 82, 113, 137, 144, 70, 11, 117, 106]  # 169\n",
    "ood_car_num_list = [91, 192, 169, 130, 140\n",
    "    , 171, 190, 186, 105, 49, 181, 157, 183, 185, 194, 98, 191, 136, 119, 196, 107, 68, 108, 78, 182, 150, 174, 21, 184, 197]\n",
    "\n",
    "y_train_scores += [np.load(f'gaussian_process/{dataset_name}/y_train_scores_fold0_start{_i}.npy') for _i in range(len(ind_car_num_list))]\n",
    "y_test_pred += [np.load(f'gaussian_process/{dataset_name}/y_test_pred_fold0_start{_i}.npy') for _i in range(len(ood_car_num_list))]\n",
    "y_test_scores += [np.load(f'gaussian_process/{dataset_name}/y_test_scores_fold0_start{_i}.npy') for _i in range(len(ood_car_num_list))]\n",
    "y_test += [np.load(f'gaussian_process/{dataset_name}/y_test_fold0_start{_i}.npy').reshape(-1) for _i in range(len(ood_car_num_list))]\n",
    "\n",
    "\n",
    "\n",
    "dataset_name = 'brand2'\n",
    "ind_car_num_list = [214, 231, 233, 234, 218, 201, 211, 248, 222, 203, 223, 246, 229, 249, 227, 207, 232, 250, 208, 245,\n",
    "                        213, 228, 220, 244, 217, 238, 221, 224, 226, 216, 202, 242, 235]  # 33\n",
    "ood_car_num_list = [205, 247, 241, 204, 206, 210, 243, 240, 219, 225, 209, 237, 236, 212, 215, 239]\n",
    "\n",
    "y_train_scores += [np.load(f'gaussian_process/{dataset_name}/y_train_scores_fold0_start{_i}.npy') for _i in range(len(ind_car_num_list))]\n",
    "y_test_pred += [np.load(f'gaussian_process/{dataset_name}/y_test_pred_fold0_start{_i}.npy') for _i in range(len(ood_car_num_list))]\n",
    "y_test_scores += [np.load(f'gaussian_process/{dataset_name}/y_test_scores_fold0_start{_i}.npy') for _i in range(len(ood_car_num_list))]\n",
    "y_test += [np.load(f'gaussian_process/{dataset_name}/y_test_fold0_start{_i}.npy').reshape(-1) for _i in range(len(ood_car_num_list))]\n",
    "\n",
    "\n",
    "\n",
    "dataset_name = 'brand3'\n",
    "ind_car_num_list = [411, 410, 434, 449, 423, 414, 431, 485, 446, 466, 453, 480, 455, 488, 402, 439, 427, 409, 442,\n",
    "                        448, 428, 452, 429, 484, 482, 457, 459, 499, 413, 461, 403, 470, 481, 493, 417, 496, 407, 495,\n",
    "                        418, 426, 436, 491, 500, 474, 476, 487, 430, 451, 498, 401, 463, 494, 406, 420, 497, 433, 435,\n",
    "                        440, 416, 464, 445, 479, 425, 460, 490, 478, 467, 447, 412, 489, 444, 422, 477, 437, 415, 486,\n",
    "                        441, 421, 471, 432, 483, 450, 468, 443, 456, 469, 472, 438, 408, 458, 454]\n",
    "ood_car_num_list = [424, 419, 473, 462, 492, 465, 404, 405, 475]\n",
    "\n",
    "y_train_scores += [np.load(f'gaussian_process/{dataset_name}/y_train_scores_fold0_start{_i}.npy') for _i in range(len(ind_car_num_list))]\n",
    "y_test_pred += [np.load(f'gaussian_process/{dataset_name}/y_test_pred_fold0_start{_i}.npy') for _i in range(len(ood_car_num_list))]\n",
    "y_test_scores += [np.load(f'gaussian_process/{dataset_name}/y_test_scores_fold0_start{_i}.npy') for _i in range(len(ood_car_num_list))]\n",
    "y_test += [np.load(f'gaussian_process/{dataset_name}/y_test_fold0_start{_i}.npy').reshape(-1) for _i in range(len(ood_car_num_list))]\n",
    "\n",
    "y_train_scores = np.hstack(y_train_scores)\n",
    "y_test_pred = np.hstack(y_test_pred)\n",
    "y_test_scores = np.hstack(y_test_scores)\n",
    "y_test = np.hstack(y_test)"
   ]
  },
  {
   "cell_type": "code",
   "execution_count": 48,
   "metadata": {},
   "outputs": [],
   "source": [
    "dataset_name = 'all'\n",
    "ind_car_num_list = [129, 158, 152, 79, 95\n",
    "        , 114, 34, 177, 99, 138, 163, 54, 45, 115, 66, 87, 47, 57, 31, 195, 36, 102,\n",
    "                        72, 173, 94, 51, 92, 61, 153, 125, 103, 3, 50, 10, 7, 146, 166, 48, 75, 86, 15, 175, 64, 2, 110, 13,\n",
    "                        23, 93, 116, 62, 8, 41, 22, 6, 24, 101, 46, 187, 198, 142, 131, 18, 160, 56, 29, 141, 148, 168, 71,\n",
    "                        53, 104, 120, 154, 20, 17, 111, 133, 63, 35, 83, 5, 88, 159, 145, 176, 127, 77, 118, 52, 81, 121,\n",
    "                        59, 38, 80, 109, 179, 28, 123, 44, 180, 149, 135, 164, 74, 40, 14, 65, 69, 42, 193, 12, 60, 73, 126,\n",
    "                        161, 188, 32, 30, 170, 128, 167, 9, 155, 156, 43, 100, 33, 90, 139, 1, 112, 25, 4, 16, 189, 147,\n",
    "                        124, 178, 55, 85, 122, 96, 162, 132, 89, 19, 27, 84, 39, 151, 67, 26, 172, 76, 37, 143, 58, 165, 97,\n",
    "                        134, 82, 113, 137, 144, 70, 11, 117, 106] + [214, 231, 233, 234, 218, 201, 211, 248, 222, 203, 223, 246, 229, 249, 227, 207, 232, 250, 208, 245,\n",
    "                        213, 228, 220, 244, 217, 238, 221, 224, 226, 216, 202, 242, 235] + [411, 410, 434, 449, 423, 414, 431, 485, 446, 466, 453, 480, 455, 488, 402, 439, 427, 409, 442,\n",
    "                        448, 428, 452, 429, 484, 482, 457, 459, 499, 413, 461, 403, 470, 481, 493, 417, 496, 407, 495,\n",
    "                        418, 426, 436, 491, 500, 474, 476, 487, 430, 451, 498, 401, 463, 494, 406, 420, 497, 433, 435,\n",
    "                        440, 416, 464, 445, 479, 425, 460, 490, 478, 467, 447, 412, 489, 444, 422, 477, 437, 415, 486,\n",
    "                        441, 421, 471, 432, 483, 450, 468, 443, 456, 469, 472, 438, 408, 458, 454]\n",
    "ood_car_num_list = [91, 192, 169, 130, 140\n",
    "    , 171, 190, 186, 105, 49, 181, 157, 183, 185, 194, 98, 191, 136, 119, 196, 107, 68, 108, 78, 182, 150, 174, 21, 184, 197] + [205, 247, 241, 204, 206, 210, 243, 240, 219, 225, 209, 237, 236, 212, 215, 239] +  [424, 419, 473, 462, 492, 465, 404, 405, 475]"
   ]
  },
  {
   "cell_type": "code",
   "execution_count": 50,
   "metadata": {},
   "outputs": [
    {
     "name": "stdout",
     "output_type": "stream",
     "text": [
      "(570490,) (0,) (130092,) (130092,)\n",
      "570490\n",
      "130092\n",
      "(570490,)\n",
      "(130092,)\n",
      "(570490,) (570490,) (570490,)\n",
      "(130092,) (130092,) (130092,)\n",
      "(570490, 3)\n",
      "(130092, 3)\n",
      "(700582, 3)\n"
     ]
    },
    {
     "data": {
      "image/png": "[encoded data removed]",
      "text/plain": [
       "<Figure size 432x288 with 1 Axes>"
      ]
     },
     "metadata": {
      "needs_background": "light"
     },
     "output_type": "display_data"
    },
    {
     "name": "stdout",
     "output_type": "stream",
     "text": [
      "0.6896551724137931\n"
     ]
    }
   ],
   "source": [
    "print(y_train_scores.shape, y_test_pred.shape, y_test_scores.shape, y_test.shape)\n",
    "\n",
    "\n",
    "car_number_train = ind_car_num_list\n",
    "car_number_test = ood_car_num_list\n",
    "\n",
    "# build 3 column csv file\n",
    "all_car_dict = np.load('../five_fold_utils/all_car_dict.npz.npy', allow_pickle=True).item()\n",
    "\n",
    "car_train = []\n",
    "for each_num in car_number_train:\n",
    "    for each_pkl in all_car_dict[each_num]:\n",
    "        car_train.append(each_num)\n",
    "car_test = []\n",
    "for each_num in car_number_test:\n",
    "    for each_pkl in all_car_dict[each_num]:\n",
    "        car_test.append(each_num)\n",
    "print(len(car_train))\n",
    "print(len(car_test))\n",
    "car_train = np.array(car_train)\n",
    "car_test = np.array(car_test)\n",
    "\n",
    "\n",
    "print(y_train_scores.shape)\n",
    "print(y_test_scores.shape)\n",
    "\n",
    "car_label_train = []\n",
    "car_label_test = []\n",
    "\n",
    "for each in car_train:\n",
    "    if each in ind_car_num_list:\n",
    "        car_label_train.append(0)\n",
    "    if each in ood_car_num_list:\n",
    "        car_label_train.append(1)\n",
    "for each in car_test:\n",
    "    if each in ind_car_num_list:\n",
    "        car_label_test.append(0)\n",
    "    if each in ood_car_num_list:\n",
    "        car_label_test.append(1)\n",
    "car_label_train = np.array(car_label_train)\n",
    "car_label_test = np.array(car_label_test)\n",
    "\n",
    "print(car_label_train.shape, car_train.shape, y_train_scores.shape)\n",
    "print(car_label_test.shape, car_test.shape, y_test_scores.shape)\n",
    "data_train = np.vstack((car_label_train, car_train, y_train_scores)).T\n",
    "data_test = np.vstack((car_label_test, car_test, y_test_scores)).T\n",
    "\n",
    "data = np.vstack((data_train, data_test))\n",
    "\n",
    "print(data_train.shape)\n",
    "print(data_test.shape)\n",
    "#     print(data_train[:5, ])\n",
    "print(data.shape)\n",
    "\n",
    "validation_car_number = ind_car_num_list[:int(fold_num * len(ind_car_num_list) / 5)] + ind_car_num_list[int((fold_num + 1) * len(ind_car_num_list) / 5):] + ood_car_num_list[int(fold_num * len(ood_car_num_list) / 5):int((fold_num + 1) * len(ood_car_num_list) / 5)]\n",
    "test_car_number = ind_car_num_list[int(fold_num * len(ind_car_num_list) / 5):int((fold_num + 1) * len(ind_car_num_list) / 5)] + ood_car_num_list[:int(fold_num * len(ood_car_num_list) / 5)] + ood_car_num_list[int((fold_num + 1) * len(ood_car_num_list) / 5):]\n",
    "\n",
    "ind_car_score = []\n",
    "ood_car_score = []\n",
    "\n",
    "for each_car_num in test_car_number:\n",
    "    this_car_score = np.mean(data[np.where(data[:, 1]==each_car_num)][:, 2])\n",
    "    if each_car_num in ind_car_num_list:\n",
    "        ind_car_score.append(this_car_score)\n",
    "    else:\n",
    "        ood_car_score.append(this_car_score)\n",
    "#     print(each_car_num, len(this_car_score))\n",
    "\n",
    "label = [1] * len(ood_car_score) + [0] * len(ind_car_score)\n",
    "score = np.hstack((ood_car_score, ind_car_score))\n",
    "\n",
    "fpr, tpr, thresholds = metrics.roc_curve(label, score, pos_label=1)\n",
    "plt.plot(fpr, tpr)\n",
    "plt.show()\n",
    "AUC = auc(fpr, tpr)\n",
    "print(AUC)\n",
    "AUC_list.append(AUC)\n",
    "\n",
    "\n",
    "np.save(f'gaussian_process/{dataset_name}/gp_robust_no_score_fold%d.npy' % fold_num, score)\n",
    "np.save(f'gaussian_process/{dataset_name}/gp_robust_no_label_fold%d.npy' % fold_num, label)\n"
   ]
  },
  {
   "cell_type": "code",
   "execution_count": 52,
   "metadata": {},
   "outputs": [],
   "source": [
    "os.makedirs(f\"gaussian_process/{dataset_name}\")\n",
    "np.save(f'gaussian_process/{dataset_name}/gp_robust_no_score_fold%d.npy' % fold_num, score)\n",
    "np.save(f'gaussian_process/{dataset_name}/gp_robust_no_label_fold%d.npy' % fold_num, label)\n"
   ]
  },
  {
   "cell_type": "code",
   "execution_count": null,
   "metadata": {},
   "outputs": [],
   "source": []
  }
 ],
 "metadata": {
  "kernelspec": {
   "display_name": "gdn_battery",
   "language": "python",
   "name": "gdn_battery"
  },
  "language_info": {
   "codemirror_mode": {
    "name": "ipython",
    "version": 3
   },
   "file_extension": ".py",
   "mimetype": "text/x-python",
   "name": "python",
   "nbconvert_exporter": "python",
   "pygments_lexer": "ipython3",
   "version": "3.7.3"
  }
 },
 "nbformat": 4,
 "nbformat_minor": 4
}
