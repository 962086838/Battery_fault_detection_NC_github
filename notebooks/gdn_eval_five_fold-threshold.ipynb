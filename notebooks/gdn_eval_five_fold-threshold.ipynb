{
 "cells": [
  {
   "cell_type": "code",
   "execution_count": 1,
   "metadata": {},
   "outputs": [],
   "source": [
    "import numpy as np\n",
    "from sklearn import metrics\n",
    "import matplotlib.pyplot as plt\n",
    "from sklearn.metrics import auc\n",
    "import pandas as pd\n",
    "from tqdm import tqdm\n",
    "import os\n",
    "from sklearn.metrics import confusion_matrix"
   ]
  },
  {
   "cell_type": "code",
   "execution_count": 2,
   "metadata": {},
   "outputs": [],
   "source": [
    "def find_best_percent(result, granularity_all=1000):\n",
    "    \"\"\"\n",
    "    find threshold\n",
    "    :param result: sorted result\n",
    "    :param granularity_all: granularity_all\n",
    "    \"\"\"\n",
    "    max_percent = 0\n",
    "    best_n = 1\n",
    "    print(\"threshold tuning start:\")\n",
    "    for n in tqdm(range(1, 100)):\n",
    "        head_n = n / granularity_all\n",
    "        data_length = max(round(len(result) * head_n), 1)\n",
    "        count_dist = count_entries(result.loc[:data_length - 1], 'label')\n",
    "        try:\n",
    "            percent = count_dist['1'] / (count_dist['0'] + count_dist['1'])\n",
    "        except KeyError:\n",
    "            print(\"can't find n%,take 1%\")\n",
    "            percent = 0.01\n",
    "        if percent > max_percent:\n",
    "            max_percent = percent\n",
    "            best_n = n\n",
    "    print(\"top %d / %s is the highest, %s\" % (granularity_all, best_n, max_percent))\n",
    "    return best_n, max_percent, granularity_all\n",
    "\n",
    "def count_entries(df, col_name):\n",
    "    \"\"\"\n",
    "    count\n",
    "    \"\"\"\n",
    "    count_dist = {'0': 0, '1': 0}\n",
    "    col = df[col_name]\n",
    "    for entry in col:\n",
    "        if str(int(entry)) in count_dist.keys():\n",
    "            count_dist[str(int(entry))] = count_dist[str(int(entry))] + 1\n",
    "        else:\n",
    "            count_dist[str(int(entry))] = 1\n",
    "    return count_dist\n",
    "\n",
    "def find_best_result(threshold_n, result, dataframe_std):\n",
    "    \"\"\"\n",
    "    find_best_result\n",
    "    :param threshold_n: threshold\n",
    "    :param result: sorted result\n",
    "    :param dataframe_std: label\n",
    "    \"\"\"\n",
    "    best_result, best_h, best_re, best_fa, best_f1, best_precision = None, 0, 0, 0, 0, 0\n",
    "    best_auroc = 0\n",
    "    for h in tqdm(range(50, 1000, 50)):\n",
    "        train_result = charge_to_car(threshold_n, result, head_n=h)\n",
    "        f1, recall, false_rate, precision, accuracy, auroc = evaluation(dataframe_std, train_result)\n",
    "        if auroc >= best_auroc:\n",
    "            best_f1 = f1\n",
    "            best_h = h\n",
    "            best_re = recall\n",
    "            best_fa = false_rate\n",
    "            best_result = train_result\n",
    "            best_auroc = auroc\n",
    "    return best_result, best_h, best_re, best_fa, best_f1, best_auroc\n",
    "\n",
    "def charge_to_car(threshold_n, rec_result, head_n=92):\n",
    "    \"\"\"\n",
    "    mapping from charge to car\n",
    "    :param threshold_n: threshold\n",
    "    :param rec_result: sorted result\n",
    "    :param head_n: top %n\n",
    "    :param gran: granularity\n",
    "    \"\"\"\n",
    "    gran = 1000\n",
    "    result = []\n",
    "    for grp in rec_result.groupby('car'):\n",
    "        temp = grp[1].values[:, -1].astype(float)\n",
    "        idx = max(round(head_n / gran * len(temp)), 1)\n",
    "        error = np.mean(temp[:idx])\n",
    "        result.append([grp[0], int(error > threshold_n), error, threshold_n])\n",
    "    return pd.DataFrame(result, columns=['car', 'predict', 'error', 'threshold_n'])\n",
    "\n",
    "def evaluation(dataframe_std, dataframe):\n",
    "    \"\"\"\n",
    "    calculated statistics\n",
    "    :param dataframe_std:\n",
    "    :param dataframe:\n",
    "    :return:\n",
    "    \"\"\"\n",
    "\n",
    "    # calculate auroc\n",
    "#     print(dataframe) # error car\n",
    "    _label = []\n",
    "    for each_car in dataframe['car']:\n",
    "        if int(each_car) in ind_car_num_list:\n",
    "            _label.append(0)\n",
    "        if int(each_car) in ood_car_num_list:\n",
    "            _label.append(1)\n",
    "\n",
    "    fpr, tpr, thresholds = metrics.roc_curve(_label, list(dataframe['error']), pos_label=1)\n",
    "    auroc = auc(fpr, tpr)\n",
    "\n",
    "\n",
    "    data = pd.merge(dataframe_std, dataframe, on='car')\n",
    "    cm = confusion_matrix(data['label'].astype(int), data['predict'].astype(int))\n",
    "    tn = cm[0, 0]\n",
    "    fp = cm[0, 1]\n",
    "    fn = cm[1, 0]\n",
    "    tp = cm[1, 1]\n",
    "    precision = tp / (tp + fp) if tp + fp != 0 else 0\n",
    "    recall = tp / (tp + fn) if tp + fn != 0 else 0\n",
    "    false_rate = fp / (tn + fp) if tn + fp != 0 else 0\n",
    "    accuracy = (tp + tn) / (tp + tn + fp + fn) if tp + tn + fp + fn != 0 else 0\n",
    "    f1 = 2 * precision * recall / (precision + recall) if precision + recall != 0 else 0\n",
    "    return f1, recall, false_rate, precision, accuracy, auroc"
   ]
  },
  {
   "cell_type": "markdown",
   "metadata": {},
   "source": [
    "# You should change the following path."
   ]
  },
  {
   "cell_type": "code",
   "execution_count": 5,
   "metadata": {},
   "outputs": [],
   "source": [
    "df0 = pd.read_csv('../GDN_battery/rec_error/gdn_saved_rec_error_fold0_2022-02-24-12-13-40.csv')\n",
    "df1 = pd.read_csv('../GDN_battery/rec_error/gdn_saved_rec_error_fold1_2022-02-24-12-07-38.csv')\n",
    "df2 = pd.read_csv('../GDN_battery/rec_error/gdn_saved_rec_error_fold2_2022-02-24-12-13-31.csv')\n",
    "df3 = pd.read_csv('../GDN_battery/rec_error/gdn_saved_rec_error_fold3_2022-02-24-12-10-33.csv')\n",
    "df4 = pd.read_csv('../GDN_battery/rec_error/gdn_saved_rec_error_fold4_2022-02-24-12-16-41.csv')"
   ]
  },
  {
   "cell_type": "code",
   "execution_count": null,
   "metadata": {},
   "outputs": [],
   "source": []
  },
  {
   "cell_type": "code",
   "execution_count": null,
   "metadata": {},
   "outputs": [],
   "source": []
  },
  {
   "cell_type": "code",
   "execution_count": null,
   "metadata": {},
   "outputs": [],
   "source": []
  },
  {
   "cell_type": "code",
   "execution_count": 7,
   "metadata": {},
   "outputs": [
    {
     "name": "stdout",
     "output_type": "stream",
     "text": [
      "(688555, 3)\n",
      "(475481, 3) (213074, 3)\n"
     ]
    },
    {
     "name": "stderr",
     "output_type": "stream",
     "text": [
      " 16%|█▌        | 16/99 [00:00<00:00, 154.12it/s]"
     ]
    },
    {
     "name": "stdout",
     "output_type": "stream",
     "text": [
      "找出最大的前n%的比例 阈值调参开始:\n"
     ]
    },
    {
     "name": "stderr",
     "output_type": "stream",
     "text": [
      "100%|██████████| 99/99 [00:02<00:00, 38.94it/s] \n",
      "  0%|          | 1/200 [00:00<00:31,  6.26it/s]"
     ]
    },
    {
     "name": "stdout",
     "output_type": "stream",
     "text": [
      "前1000分之4个数的比例最高，为0.2202944269190326\n",
      "threshold_n 273.691571492545\n",
      "训练集自检调参开始,flag is rec_error\n"
     ]
    },
    {
     "name": "stderr",
     "output_type": "stream",
     "text": [
      "100%|██████████| 200/200 [00:31<00:00,  6.08it/s]\n"
     ]
    },
    {
     "name": "stdout",
     "output_type": "stream",
     "text": [
      "dataframe_std is  302 &&   dataframe is  211\n",
      "最好的1000分之110:\n",
      "检出率: 0.6\n",
      "误报率: 0.06467661691542288\n",
      "F1: 0.41379310344827586\n"
     ]
    },
    {
     "data": {
      "image/png": "[encoded data removed]",
      "text/plain": [
       "<Figure size 432x288 with 1 Axes>"
      ]
     },
     "metadata": {
      "needs_background": "light"
     },
     "output_type": "display_data"
    },
    {
     "name": "stdout",
     "output_type": "stream",
     "text": [
      "0.786\n",
      "(688555, 3)\n",
      "(468313, 3) (220242, 3)\n"
     ]
    },
    {
     "name": "stderr",
     "output_type": "stream",
     "text": [
      " 18%|█▊        | 18/99 [00:00<00:00, 170.39it/s]"
     ]
    },
    {
     "name": "stdout",
     "output_type": "stream",
     "text": [
      "找出最大的前n%的比例 阈值调参开始:\n"
     ]
    },
    {
     "name": "stderr",
     "output_type": "stream",
     "text": [
      "100%|██████████| 99/99 [00:02<00:00, 22.29it/s] \n",
      "  0%|          | 1/200 [00:00<00:35,  5.57it/s]"
     ]
    },
    {
     "name": "stdout",
     "output_type": "stream",
     "text": [
      "前1000分之2个数的比例最高，为0.7075773745997865\n",
      "threshold_n 1454.1679620129282\n",
      "训练集自检调参开始,flag is rec_error\n"
     ]
    },
    {
     "name": "stderr",
     "output_type": "stream",
     "text": [
      "100%|██████████| 200/200 [00:31<00:00,  6.39it/s]\n"
     ]
    },
    {
     "name": "stdout",
     "output_type": "stream",
     "text": [
      "dataframe_std is  302 &&   dataframe is  211\n",
      "最好的1000分之42:\n",
      "检出率: 0.6\n",
      "误报率: 0.04975124378109453\n",
      "F1: 0.4615384615384615\n"
     ]
    },
    {
     "data": {
      "image/png": "[encoded data removed]",
      "text/plain": [
       "<Figure size 432x288 with 1 Axes>"
      ]
     },
     "metadata": {
      "needs_background": "light"
     },
     "output_type": "display_data"
    },
    {
     "name": "stdout",
     "output_type": "stream",
     "text": [
      "0.778\n",
      "(688555, 3)\n",
      "(506214, 3) (182341, 3)\n"
     ]
    },
    {
     "name": "stderr",
     "output_type": "stream",
     "text": [
      " 15%|█▌        | 15/99 [00:00<00:00, 149.11it/s]"
     ]
    },
    {
     "name": "stdout",
     "output_type": "stream",
     "text": [
      "找出最大的前n%的比例 阈值调参开始:\n"
     ]
    },
    {
     "name": "stderr",
     "output_type": "stream",
     "text": [
      "100%|██████████| 99/99 [00:02<00:00, 36.22it/s] \n",
      "  0%|          | 1/200 [00:00<00:33,  5.94it/s]"
     ]
    },
    {
     "name": "stdout",
     "output_type": "stream",
     "text": [
      "前1000分之8个数的比例最高，为0.7404938271604938\n",
      "threshold_n 298.4195171118988\n",
      "训练集自检调参开始,flag is rec_error\n"
     ]
    },
    {
     "name": "stderr",
     "output_type": "stream",
     "text": [
      "100%|██████████| 200/200 [00:33<00:00,  6.11it/s]\n"
     ]
    },
    {
     "name": "stdout",
     "output_type": "stream",
     "text": [
      "dataframe_std is  302 &&   dataframe is  211\n",
      "最好的1000分之139:\n",
      "检出率: 0.7\n",
      "误报率: 0.024875621890547265\n",
      "F1: 0.6363636363636365\n"
     ]
    },
    {
     "data": {
      "image/png": "[encoded data removed]",
      "text/plain": [
       "<Figure size 432x288 with 1 Axes>"
      ]
     },
     "metadata": {
      "needs_background": "light"
     },
     "output_type": "display_data"
    },
    {
     "name": "stdout",
     "output_type": "stream",
     "text": [
      "0.896\n",
      "(688555, 3)\n",
      "(461119, 3) (227436, 3)\n"
     ]
    },
    {
     "name": "stderr",
     "output_type": "stream",
     "text": [
      " 18%|█▊        | 18/99 [00:00<00:00, 174.58it/s]"
     ]
    },
    {
     "name": "stdout",
     "output_type": "stream",
     "text": [
      "找出最大的前n%的比例 阈值调参开始:\n"
     ]
    },
    {
     "name": "stderr",
     "output_type": "stream",
     "text": [
      "100%|██████████| 99/99 [00:02<00:00, 40.43it/s] \n",
      "  0%|          | 1/200 [00:00<00:33,  5.93it/s]"
     ]
    },
    {
     "name": "stdout",
     "output_type": "stream",
     "text": [
      "前1000分之9个数的比例最高，为0.6619277108433735\n",
      "threshold_n 303.5614370437916\n",
      "训练集自检调参开始,flag is rec_error\n"
     ]
    },
    {
     "name": "stderr",
     "output_type": "stream",
     "text": [
      "100%|██████████| 200/200 [00:30<00:00,  6.52it/s]\n"
     ]
    },
    {
     "name": "stdout",
     "output_type": "stream",
     "text": [
      "dataframe_std is  302 &&   dataframe is  211\n",
      "最好的1000分之200:\n",
      "检出率: 0.7\n",
      "误报率: 0.03482587064676617\n",
      "F1: 0.5833333333333334\n"
     ]
    },
    {
     "data": {
      "image/png": "[encoded data removed]",
      "text/plain": [
       "<Figure size 432x288 with 1 Axes>"
      ]
     },
     "metadata": {
      "needs_background": "light"
     },
     "output_type": "display_data"
    },
    {
     "name": "stdout",
     "output_type": "stream",
     "text": [
      "0.915\n",
      "(688555, 3)\n",
      "(456207, 3) (232348, 3)\n"
     ]
    },
    {
     "name": "stderr",
     "output_type": "stream",
     "text": [
      " 18%|█▊        | 18/99 [00:00<00:00, 177.93it/s]"
     ]
    },
    {
     "name": "stdout",
     "output_type": "stream",
     "text": [
      "找出最大的前n%的比例 阈值调参开始:\n"
     ]
    },
    {
     "name": "stderr",
     "output_type": "stream",
     "text": [
      "100%|██████████| 99/99 [00:02<00:00, 41.63it/s] \n",
      "  0%|          | 0/200 [00:00<?, ?it/s]"
     ]
    },
    {
     "name": "stdout",
     "output_type": "stream",
     "text": [
      "前1000分之7个数的比例最高，为0.6019417475728155\n",
      "threshold_n 297.4628692796165\n",
      "训练集自检调参开始,flag is rec_error\n"
     ]
    },
    {
     "name": "stderr",
     "output_type": "stream",
     "text": [
      "100%|██████████| 200/200 [00:30<00:00,  6.46it/s]\n"
     ]
    },
    {
     "name": "stdout",
     "output_type": "stream",
     "text": [
      "dataframe_std is  302 &&   dataframe is  210\n",
      "最好的1000分之200:\n",
      "检出率: 0.8\n",
      "误报率: 0.03\n",
      "F1: 0.6666666666666666\n"
     ]
    },
    {
     "data": {
      "image/png": "[encoded data removed]",
      "text/plain": [
       "<Figure size 432x288 with 1 Axes>"
      ]
     },
     "metadata": {
      "needs_background": "light"
     },
     "output_type": "display_data"
    },
    {
     "name": "stdout",
     "output_type": "stream",
     "text": [
      "0.9245098039215687\n"
     ]
    }
   ],
   "source": [
    "AUC_list = []\n",
    "\n",
    "for fold_num in range(5):\n",
    "    df = eval('df'+str(fold_num))\n",
    "    data = np.array(df)[:, 1:]\n",
    "    print(data.shape)\n",
    "    data = np.vstack((data[:,1], data[:,0], data[:,2])).T\n",
    "#     print(data[:5,])\n",
    "\n",
    "    # replace the following two car number lists\n",
    "    ind_ood_car_dict = np.load('../five_fold_utils/ind_odd_dict1.npz.npy', allow_pickle=True).item()\n",
    "    ind_car_num_list = ind_ood_car_dict['ind_sorted']\n",
    "    ood_car_num_list = ind_ood_car_dict['ood_sorted'] \n",
    "\n",
    "\n",
    "    # car_number = ind_car_num_list[int(fold_num * 175 / 5):int((fold_num + 1) * 175 / 5)] + ood_car_num_list\n",
    "\n",
    "    validation_car_number = ind_car_num_list[:int(fold_num * len(ind_car_num_list) / 5)] + ind_car_num_list[int((fold_num + 1) * len(ind_car_num_list) / 5):] + ood_car_num_list[int(fold_num * len(ood_car_num_list) / 5):int((fold_num + 1) * len(ood_car_num_list) / 5)]\n",
    "    test_car_number = ind_car_num_list[int(fold_num * len(ind_car_num_list) / 5):int((fold_num + 1) * len(ind_car_num_list) / 5)] + ood_car_num_list[:int(fold_num * len(ood_car_num_list) / 5)] + ood_car_num_list[int((fold_num + 1) * len(ood_car_num_list) / 5):]\n",
    "\n",
    "\n",
    "    validation_data = []\n",
    "    test_data = []\n",
    "\n",
    "    for each_line in data:\n",
    "        if each_line[1] in validation_car_number:\n",
    "            validation_data.append(each_line)\n",
    "        else:\n",
    "            test_data.append(each_line)\n",
    "\n",
    "    validation_data = np.array(validation_data)\n",
    "    test_data = np.array(test_data)\n",
    "    print(validation_data.shape, test_data.shape)\n",
    "\n",
    "    rec_sorted_index = np.argsort(-validation_data[:, 2].astype(float))\n",
    "    res = [validation_data[i][[1, 0, 2]] for i in rec_sorted_index]\n",
    "    result = pd.DataFrame(res, columns=['car', 'label', 'rec_error'])\n",
    "    result['car'] = result['car'].astype(\"int\").astype(\"str\")\n",
    "    # result.head()\n",
    "\n",
    "    best_n, max_percent, granularity = find_best_percent(result, granularity_all=1000)\n",
    "    head_n = best_n / granularity\n",
    "    data_length = round(len(result) * head_n)\n",
    "    threshold_n = result['rec_error'].values[data_length - 1].astype(float)\n",
    "\n",
    "    print(\"threshold_n\", threshold_n)\n",
    "    print(\"start tuning, flag is\", 'rec_error')\n",
    "    # dtype = object 否则可能会把车号转成int\n",
    "    dataframe_std1 = pd.read_csv(os.path.join('../data/battery_brand1/label', \"train_label.csv\"), dtype=object)\n",
    "    dataframe_std2 = pd.read_csv(os.path.join('../data/battery_brand1/label', \"test_label.csv\"), dtype=object)\n",
    "    dataframe_std3 = pd.read_csv(os.path.join('../data/battery_brand2/label', \"train_label.csv\"), dtype=object)\n",
    "    dataframe_std4 = pd.read_csv(os.path.join('../data/battery_brand2/label', \"test_label.csv\"), dtype=object)\n",
    "    dataframe_std5 = pd.read_csv(os.path.join('../data/battery_brand4/label', \"all_label.csv\"), dtype=object)\n",
    "    dataframe_std = pd.concat([dataframe_std1, dataframe_std2, dataframe_std3, dataframe_std4, dataframe_std5], axis=0,ignore_index=True)\n",
    "    assert max(dataframe_std['car'].astype(\"int\"))>300\n",
    "    assert 201 in dataframe_std['car'].astype(\"int\")\n",
    "    best_result, best_h, best_re, best_fa, best_f1, best_auroc = find_best_result(threshold_n, result, dataframe_std)\n",
    "    # best_result.to_csv(os.path.join(self.args.result_path, \"train_res.csv\")),\n",
    "    if dataframe_std.shape[0] == best_result.shape[0]:\n",
    "        pass\n",
    "    else:\n",
    "        print('dataframe_std is ', dataframe_std.shape[0], '&&   dataframe is ', best_result.shape[0])\n",
    "    print(\"best 1000 / %d:\" % best_h)\n",
    "    print(\"re:\", best_re)\n",
    "    print(\"fa:\", best_fa)\n",
    "    print(\"F1:\", best_f1)\n",
    "\n",
    "    rec_sorted_index = np.argsort(-test_data[:, 2].astype(float))\n",
    "    res = [test_data[i][[1, 0, 2]] for i in rec_sorted_index]\n",
    "    result = pd.DataFrame(res, columns=['car', 'label', 'rec_error'])\n",
    "    result['car'] = result['car'].astype(\"int\").astype(\"str\")\n",
    "    # result.to_csv(os.path.join(self.args.result_path, \"test_segment_scores.csv\"))\n",
    "    test_result = charge_to_car(threshold_n, result, head_n=best_h)\n",
    "\n",
    "    _score = list(test_result['error'])\n",
    "    _label = []\n",
    "    for each_car in test_result['car']:\n",
    "        if int(each_car) in ind_car_num_list:\n",
    "            _label.append(0)\n",
    "        if int(each_car) in ood_car_num_list:\n",
    "            _label.append(1)\n",
    "\n",
    "    fpr, tpr, thresholds = metrics.roc_curve(_label, _score, pos_label=1)\n",
    "    plt.plot(fpr, tpr)\n",
    "    plt.show()\n",
    "    AUC = auc(fpr, tpr)\n",
    "    print(AUC)\n",
    "    AUC_list.append(AUC)\n",
    "\n",
    "    np.save('../GDN_battery/rec_error/robust_score_fold%d' % fold_num, _score)\n",
    "    np.save('../GDN_battery/rec_error/robust_label_fold%d' % fold_num, _label)"
   ]
  },
  {
   "cell_type": "code",
   "execution_count": 8,
   "metadata": {},
   "outputs": [
    {
     "name": "stdout",
     "output_type": "stream",
     "text": [
      "[0.786, 0.778, 0.896, 0.915, 0.9245098039215687]\n",
      "0.8599019607843138\n"
     ]
    }
   ],
   "source": [
    "print(AUC_list)\n",
    "print(np.mean(AUC_list))"
   ]
  },
  {
   "cell_type": "code",
   "execution_count": null,
   "metadata": {},
   "outputs": [],
   "source": []
  },
  {
   "cell_type": "code",
   "execution_count": null,
   "metadata": {},
   "outputs": [],
   "source": []
  },
  {
   "cell_type": "code",
   "execution_count": null,
   "metadata": {},
   "outputs": [],
   "source": []
  }
 ],
 "metadata": {
  "kernelspec": {
   "display_name": "Python 3",
   "language": "python",
   "name": "python3"
  },
  "language_info": {
   "codemirror_mode": {
    "name": "ipython",
    "version": 3
   },
   "file_extension": ".py",
   "mimetype": "text/x-python",
   "name": "python",
   "nbconvert_exporter": "python",
   "pygments_lexer": "ipython3",
   "version": "3.6.5"
  }
 },
 "nbformat": 4,
 "nbformat_minor": 4
}
