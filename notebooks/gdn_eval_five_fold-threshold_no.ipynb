{
 "cells": [
  {
   "cell_type": "code",
   "execution_count": 1,
   "metadata": {},
   "outputs": [],
   "source": [
    "import numpy as np\n",
    "from sklearn import metrics\n",
    "import matplotlib.pyplot as plt\n",
    "from sklearn.metrics import auc\n",
    "import pandas as pd\n",
    "from tqdm import tqdm\n",
    "import os\n",
    "from sklearn.metrics import confusion_matrix"
   ]
  },
  {
   "cell_type": "code",
   "execution_count": null,
   "metadata": {},
   "outputs": [],
   "source": []
  },
  {
   "cell_type": "code",
   "execution_count": 2,
   "metadata": {},
   "outputs": [],
   "source": [
    "df0 = pd.read_csv('../GDN_battery/rec_error/gdn_saved_rec_error_fold0_2022-02-24-12-13-40.csv')\n",
    "df1 = pd.read_csv('../GDN_battery/rec_error/gdn_saved_rec_error_fold1_2022-02-24-12-07-38.csv')\n",
    "df2 = pd.read_csv('../GDN_battery/rec_error/gdn_saved_rec_error_fold2_2022-02-24-12-13-31.csv')\n",
    "df3 = pd.read_csv('../GDN_battery/rec_error/gdn_saved_rec_error_fold3_2022-02-24-12-10-33.csv')\n",
    "df4 = pd.read_csv('../GDN_battery/rec_error/gdn_saved_rec_error_fold4_2022-02-24-12-16-41.csv')"
   ]
  },
  {
   "cell_type": "code",
   "execution_count": null,
   "metadata": {},
   "outputs": [],
   "source": []
  },
  {
   "cell_type": "code",
   "execution_count": null,
   "metadata": {},
   "outputs": [],
   "source": []
  },
  {
   "cell_type": "code",
   "execution_count": 3,
   "metadata": {},
   "outputs": [],
   "source": [
    "fold_num = 4"
   ]
  },
  {
   "cell_type": "code",
   "execution_count": 4,
   "metadata": {},
   "outputs": [
    {
     "name": "stdout",
     "output_type": "stream",
     "text": [
      "(688555, 3)\n",
      "[[ 0.          1.          6.7460091 ]\n",
      " [ 0.          1.          0.4892498 ]\n",
      " [ 0.          1.          0.69435479]\n",
      " [ 0.          1.         22.16707274]\n",
      " [ 0.          1.          5.53433591]]\n"
     ]
    }
   ],
   "source": [
    "df = eval('df'+str(fold_num))\n",
    "data = np.array(df)[:, 1:]\n",
    "print(data.shape)\n",
    "data = np.vstack((data[:,1], data[:,0], data[:,2])).T\n",
    "print(data[:5,])"
   ]
  },
  {
   "cell_type": "code",
   "execution_count": 5,
   "metadata": {},
   "outputs": [],
   "source": [
    "# replace the following two car number lists\n",
    "ind_car_num_list = [2, 193, 45, 73, 354, 54, 218, 202, 42, 52, 62, 141, 60, 336, 123, 178, 127, 121, 176, 332, 66, 56, 201, 158, 149, 94, 351, 103, 146, 319, 75, 229, 217, 101, 115, 48, 324, 234, 41, 148, 145, 14, 312, 341, 32, 61, 233, 69, 310, 46, 7, 152, 71, 31, 34, 92, 129, 198, 213, 20, 131, 142, 81, 311, 231, 104, 109, 337, 167, 28, 164, 211, 170, 223, 120, 5, 116, 344, 12, 53, 180, 99, 102, 308, 343, 245, 352, 323, 93, 195, 72, 316, 173, 6, 114, 345, 315, 13, 8, 57, 326, 23, 342, 160, 30, 321, 135, 36, 100, 3, 305, 327, 118, 44, 307, 80, 224, 15, 83, 43, 348, 47, 111, 128, 95, 87, 313, 227, 126, 248, 350, 333, 63, 74, 110, 232, 10, 40, 35, 24, 18, 133, 246, 9, 162, 220, 50, 189, 216, 163, 203, 353, 168, 208, 249, 77, 166, 187, 320, 304, 153, 235, 244, 33, 79, 302, 340, 29, 138, 346, 86, 22, 328, 125, 154, 38, 64, 59, 161, 51, 17, 322, 88, 65, 90, 139, 325, 1, 179, 207, 222, 112, 226, 25, 4, 155, 16, 347, 147, 124, 339, 156, 55, 188, 175, 85, 122, 96, 317, 159, 132, 89, 214, 19, 228, 27, 84, 39, 172, 309, 221, 151, 67, 306, 177, 26, 238, 331, 76, 37, 143, 58, 334, 330, 165, 97, 134, 82, 314, 250, 338, 113, 137, 144, 70, 11, 117, 329, 242, 106, 318]\n",
    "ood_car_num_list = [186, 204, 349, 236, 136, 150, 119, 181, 78, 105, 335, 183, 91, 197, 107, 194, 241, 174, 240, 171, 206, 205, 215, 108, 209, 219, 243, 49, 185, 237, 212, 210, 191, 68, 301, 303, 196, 157, 169, 130, 184, 140, 225, 21, 98, 239, 192, 190, 182, 247]\n",
    "\n",
    "validation_car_number = ind_car_num_list[:int(fold_num * len(ind_car_num_list) / 5)] + ind_car_num_list[int((fold_num + 1) * len(ind_car_num_list) / 5):] + ood_car_num_list[int(fold_num * len(ood_car_num_list) / 5):int((fold_num + 1) * len(ood_car_num_list) / 5)]\n",
    "# test_car_number = ind_car_num_list[int(fold_num * len(ind_car_num_list) / 5):int((fold_num + 1) * len(ind_car_num_list) / 5)] + ood_car_num_list[:int(fold_num * len(ood_car_num_list) / 5)] + ood_car_num_list[int((fold_num + 1) * len(ood_car_num_list) / 5):]\n",
    "test_car_number = ind_car_num_list[int(fold_num * len(ind_car_num_list) / 5):int((fold_num + 1) * len(ind_car_num_list) / 5)] + ood_car_num_list[:int(fold_num * len(ood_car_num_list) / 5)] + ood_car_num_list[int((fold_num + 1) * len(ood_car_num_list) / 5):]"
   ]
  },
  {
   "cell_type": "code",
   "execution_count": 6,
   "metadata": {},
   "outputs": [
    {
     "name": "stdout",
     "output_type": "stream",
     "text": [
      "(456207, 3) (232348, 3)\n"
     ]
    }
   ],
   "source": [
    "validation_data = []\n",
    "test_data = []\n",
    "\n",
    "for each_line in data:\n",
    "    if each_line[1] in validation_car_number:\n",
    "        validation_data.append(each_line)\n",
    "    else:\n",
    "        test_data.append(each_line)\n",
    "\n",
    "validation_data = np.array(validation_data)\n",
    "test_data = np.array(test_data)\n",
    "print(validation_data.shape, test_data.shape)\n",
    "all_data = np.vstack((validation_data, test_data))"
   ]
  },
  {
   "cell_type": "code",
   "execution_count": 7,
   "metadata": {},
   "outputs": [],
   "source": [
    "ind_car_score = []\n",
    "ood_car_score = []\n",
    "\n",
    "for each_car_num in test_car_number:\n",
    "    this_car_score = np.mean(all_data[np.where(all_data[:, 1]==each_car_num)][:, 2])\n",
    "    if each_car_num in ind_car_num_list:\n",
    "        ind_car_score.append(this_car_score)\n",
    "    else:\n",
    "        ood_car_score.append(this_car_score)\n",
    "#     print(each_car_num, len(this_car_score))"
   ]
  },
  {
   "cell_type": "code",
   "execution_count": 8,
   "metadata": {},
   "outputs": [
    {
     "data": {
      "image/png": "[encoded data removed]",
      "text/plain": [
       "<Figure size 432x288 with 1 Axes>"
      ]
     },
     "metadata": {
      "needs_background": "light"
     },
     "output_type": "display_data"
    },
    {
     "name": "stdout",
     "output_type": "stream",
     "text": [
      "0.9333333333333333\n"
     ]
    }
   ],
   "source": [
    "label = [1] * len(ood_car_score) + [0] * len(ind_car_score)\n",
    "score = np.hstack((ood_car_score, ind_car_score))\n",
    "\n",
    "fpr, tpr, thresholds = metrics.roc_curve(label, score, pos_label=1)\n",
    "plt.plot(fpr, tpr)\n",
    "plt.show()\n",
    "AUC = auc(fpr, tpr)\n",
    "print(AUC)\n",
    "\n",
    "np.save('../GDN_battery/rec_error/average_score_fold%d' % fold_num, score)\n",
    "np.save('../GDN_battery/rec_error/average_label_fold%d' % fold_num, label)"
   ]
  },
  {
   "cell_type": "code",
   "execution_count": null,
   "metadata": {},
   "outputs": [],
   "source": []
  },
  {
   "cell_type": "code",
   "execution_count": null,
   "metadata": {},
   "outputs": [],
   "source": []
  },
  {
   "cell_type": "code",
   "execution_count": null,
   "metadata": {},
   "outputs": [],
   "source": []
  }
 ],
 "metadata": {
  "kernelspec": {
   "display_name": "Python 3",
   "language": "python",
   "name": "python3"
  },
  "language_info": {
   "codemirror_mode": {
    "name": "ipython",
    "version": 3
   },
   "file_extension": ".py",
   "mimetype": "text/x-python",
   "name": "python",
   "nbconvert_exporter": "python",
   "pygments_lexer": "ipython3",
   "version": "3.6.5"
  }
 },
 "nbformat": 4,
 "nbformat_minor": 4
}
