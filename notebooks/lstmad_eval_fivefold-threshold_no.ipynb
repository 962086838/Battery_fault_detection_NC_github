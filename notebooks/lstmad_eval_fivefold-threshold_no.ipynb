{
 "cells": [
  {
   "cell_type": "code",
   "execution_count": 1,
   "metadata": {},
   "outputs": [],
   "source": [
    "import numpy as np\n",
    "from sklearn import metrics\n",
    "import matplotlib.pyplot as plt\n",
    "from sklearn.metrics import auc\n",
    "import pandas as pd\n",
    "from tqdm import tqdm\n",
    "import os\n",
    "from sklearn.metrics import confusion_matrix"
   ]
  },
  {
   "cell_type": "code",
   "execution_count": 2,
   "metadata": {},
   "outputs": [],
   "source": []
  },
  {
   "cell_type": "code",
   "execution_count": 3,
   "metadata": {},
   "outputs": [],
   "source": [
    "df0 = pd.read_csv('../Recurrent-Autoencoder-modify/rec_error/lstmad_saved_rec_error_fold0_2022-02-24-14-10-42.csv')\n",
    "df1 = pd.read_csv('../Recurrent-Autoencoder-modify/rec_error/lstmad_saved_rec_error_fold1_2022-02-24-13-54-01.csv')\n",
    "df2 = pd.read_csv('../Recurrent-Autoencoder-modify/rec_error/lstmad_saved_rec_error_fold2_2022-02-24-13-56-50.csv')\n",
    "df3 = pd.read_csv('../Recurrent-Autoencoder-modify/rec_error/lstmad_saved_rec_error_fold3_2022-02-24-13-47-09.csv')\n",
    "df4 = pd.read_csv('../Recurrent-Autoencoder-modify/rec_error/lstmad_saved_rec_error_fold4_2022-02-24-13-40-10.csv')"
   ]
  },
  {
   "cell_type": "code",
   "execution_count": null,
   "metadata": {},
   "outputs": [],
   "source": []
  },
  {
   "cell_type": "code",
   "execution_count": null,
   "metadata": {},
   "outputs": [],
   "source": []
  },
  {
   "cell_type": "code",
   "execution_count": 4,
   "metadata": {},
   "outputs": [],
   "source": [
    "fold_num = 4"
   ]
  },
  {
   "cell_type": "code",
   "execution_count": 5,
   "metadata": {},
   "outputs": [
    {
     "name": "stdout",
     "output_type": "stream",
     "text": [
      "(688555, 3)\n",
      "[[ 0.          2.          9.3149662 ]\n",
      " [ 0.          2.         14.96766472]\n",
      " [ 0.          2.         11.21743393]\n",
      " [ 0.          2.         16.36530113]\n",
      " [ 0.          2.         16.98572922]]\n"
     ]
    }
   ],
   "source": [
    "df = eval('df'+str(fold_num))\n",
    "data = np.array(df)[:, 1:]\n",
    "print(data.shape)\n",
    "data = np.vstack((data[:,1], data[:,0], data[:,2])).T\n",
    "print(data[:5,])"
   ]
  },
  {
   "cell_type": "code",
   "execution_count": 6,
   "metadata": {},
   "outputs": [],
   "source": [
    "# replace the following two car number lists\n",
    "ind_ood_car_dict = np.load('../five_fold_utils/ind_odd_dict1.npz.npy', allow_pickle=True).item()\n",
    "ind_car_num_list = ind_ood_car_dict['ind_sorted']\n",
    "ood_car_num_list = ind_ood_car_dict['ood_sorted'] \n",
    "\n",
    "validation_car_number = ind_car_num_list[:int(fold_num * len(ind_car_num_list) / 5)] + ind_car_num_list[int((fold_num + 1) * len(ind_car_num_list) / 5):] + ood_car_num_list[int(fold_num * len(ood_car_num_list) / 5):int((fold_num + 1) * len(ood_car_num_list) / 5)]\n",
    "test_car_number = ind_car_num_list[int(fold_num * len(ind_car_num_list) / 5):int((fold_num + 1) * len(ind_car_num_list) / 5)] + ood_car_num_list[:int(fold_num * len(ood_car_num_list) / 5)] + ood_car_num_list[int((fold_num + 1) * len(ood_car_num_list) / 5):]\n",
    "# test_car_number = ind_car_num_list[int(fold_num * len(ind_car_num_list) / 5):int((fold_num + 1) * len(ind_car_num_list) / 5)] + ood_car_num_list"
   ]
  },
  {
   "cell_type": "code",
   "execution_count": 7,
   "metadata": {},
   "outputs": [
    {
     "name": "stdout",
     "output_type": "stream",
     "text": [
      "(456207, 3) (232348, 3)\n"
     ]
    }
   ],
   "source": [
    "validation_data = []\n",
    "test_data = []\n",
    "\n",
    "for each_line in data:\n",
    "    if each_line[1] in validation_car_number:\n",
    "        validation_data.append(each_line)\n",
    "    else:\n",
    "        test_data.append(each_line)\n",
    "\n",
    "validation_data = np.array(validation_data)\n",
    "test_data = np.array(test_data)\n",
    "print(validation_data.shape, test_data.shape)\n",
    "all_data = np.vstack((validation_data, test_data))"
   ]
  },
  {
   "cell_type": "code",
   "execution_count": 8,
   "metadata": {},
   "outputs": [],
   "source": [
    "ind_car_score = []\n",
    "ood_car_score = []\n",
    "\n",
    "for each_car_num in test_car_number:\n",
    "    this_car_score = np.mean(all_data[np.where(all_data[:, 1]==each_car_num)][:, 2])\n",
    "    if each_car_num in ind_car_num_list:\n",
    "        ind_car_score.append(this_car_score)\n",
    "    else:\n",
    "        ood_car_score.append(this_car_score)\n",
    "#     print(each_car_num, len(this_car_score))"
   ]
  },
  {
   "cell_type": "code",
   "execution_count": 9,
   "metadata": {},
   "outputs": [
    {
     "data": {
      "image/png": "[encoded data removed]",
      "text/plain": [
       "<Figure size 432x288 with 1 Axes>"
      ]
     },
     "metadata": {
      "needs_background": "light"
     },
     "output_type": "display_data"
    },
    {
     "name": "stdout",
     "output_type": "stream",
     "text": [
      "0.8650980392156863\n"
     ]
    }
   ],
   "source": [
    "label = [1] * len(ood_car_score) + [0] * len(ind_car_score)\n",
    "score = np.hstack((ood_car_score, ind_car_score))\n",
    "\n",
    "fpr, tpr, thresholds = metrics.roc_curve(label, score, pos_label=1)\n",
    "plt.plot(fpr, tpr)\n",
    "plt.show()\n",
    "AUC = auc(fpr, tpr)\n",
    "print(AUC)\n",
    "\n",
    "np.save('../Recurrent-Autoencoder-modify/rec_error/average_score_fold%d' % fold_num, score)\n",
    "np.save('../Recurrent-Autoencoder-modify/rec_error/average_label_fold%d' % fold_num, label)"
   ]
  },
  {
   "cell_type": "code",
   "execution_count": null,
   "metadata": {},
   "outputs": [],
   "source": []
  },
  {
   "cell_type": "code",
   "execution_count": null,
   "metadata": {},
   "outputs": [],
   "source": []
  }
 ],
 "metadata": {
  "kernelspec": {
   "display_name": "Python 3",
   "language": "python",
   "name": "python3"
  },
  "language_info": {
   "codemirror_mode": {
    "name": "ipython",
    "version": 3
   },
   "file_extension": ".py",
   "mimetype": "text/x-python",
   "name": "python",
   "nbconvert_exporter": "python",
   "pygments_lexer": "ipython3",
   "version": "3.6.5"
  }
 },
 "nbformat": 4,
 "nbformat_minor": 4
}
