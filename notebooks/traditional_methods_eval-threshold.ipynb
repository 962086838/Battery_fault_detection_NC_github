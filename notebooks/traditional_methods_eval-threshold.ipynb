{
 "cells": [
  {
   "cell_type": "code",
   "execution_count": 1,
   "metadata": {},
   "outputs": [],
   "source": [
    "import os\n",
    "import sys\n",
    "import numpy as np\n",
    "import pandas as pd\n",
    "import torch\n",
    "# from pyod.models.iforest import IForest\n",
    "from sklearn.metrics import confusion_matrix\n",
    "from tqdm import tqdm\n",
    "from sklearn import metrics\n",
    "import matplotlib.pyplot as plt\n",
    "from sklearn.metrics import auc"
   ]
  },
  {
   "cell_type": "code",
   "execution_count": 2,
   "metadata": {},
   "outputs": [],
   "source": [
    "def find_best_percent(result, granularity_all=1000):\n",
    "    \"\"\"\n",
    "    find threshold\n",
    "    :param result: sorted result\n",
    "    :param granularity_all: granularity_all\n",
    "    \"\"\"\n",
    "    max_percent = 0\n",
    "    best_n = 1\n",
    "    print(\"threshold tuning start:\")\n",
    "    for n in tqdm(range(1, 100)):\n",
    "        head_n = n / granularity_all\n",
    "        data_length = max(round(len(result) * head_n), 1)\n",
    "        count_dist = count_entries(result.loc[:data_length - 1], 'label')\n",
    "        try:\n",
    "            percent = count_dist['1'] / (count_dist['0'] + count_dist['1'])\n",
    "        except KeyError:\n",
    "            print(\"can't find n%,take 1%\")\n",
    "            percent = 0.01\n",
    "        if percent > max_percent:\n",
    "            max_percent = percent\n",
    "            best_n = n\n",
    "    print(\"top %d / %s is the highest, %s\" % (granularity_all, best_n, max_percent))\n",
    "    return best_n, max_percent, granularity_all\n",
    "\n",
    "def count_entries(df, col_name):\n",
    "    \"\"\"\n",
    "    count\n",
    "    \"\"\"\n",
    "    count_dist = {'0': 0, '1': 0}\n",
    "    col = df[col_name]\n",
    "    for entry in col:\n",
    "        if str(int(entry)) in count_dist.keys():\n",
    "            count_dist[str(int(entry))] = count_dist[str(int(entry))] + 1\n",
    "        else:\n",
    "            count_dist[str(int(entry))] = 1\n",
    "    return count_dist\n",
    "\n",
    "def find_best_result(threshold_n, result, dataframe_std):\n",
    "    \"\"\"\n",
    "    find_best_result\n",
    "    :param threshold_n: threshold\n",
    "    :param result: sorted result\n",
    "    :param dataframe_std: label\n",
    "    \"\"\"\n",
    "    best_result, best_h, best_re, best_fa, best_f1, best_precision = None, 0, 0, 0, 0, 0\n",
    "    best_auroc = 0\n",
    "    for h in tqdm(range(50, 1000, 50)):\n",
    "        train_result = charge_to_car(threshold_n, result, head_n=h)\n",
    "        f1, recall, false_rate, precision, accuracy, auroc = evaluation(dataframe_std, train_result)\n",
    "        if auroc >= best_auroc:\n",
    "            best_f1 = f1\n",
    "            best_h = h\n",
    "            best_re = recall\n",
    "            best_fa = false_rate\n",
    "            best_result = train_result\n",
    "            best_auroc = auroc\n",
    "    return best_result, best_h, best_re, best_fa, best_f1, best_auroc\n",
    "\n",
    "def charge_to_car(threshold_n, rec_result, head_n=92):\n",
    "    \"\"\"\n",
    "    mapping from charge to car\n",
    "    :param threshold_n: threshold\n",
    "    :param rec_result: sorted result\n",
    "    :param head_n: top %n\n",
    "    :param gran: granularity\n",
    "    \"\"\"\n",
    "    gran = 1000\n",
    "    result = []\n",
    "    for grp in rec_result.groupby('car'):\n",
    "        temp = grp[1].values[:, -1].astype(float)\n",
    "        idx = max(round(head_n / gran * len(temp)), 1)\n",
    "        error = np.mean(temp[:idx])\n",
    "        result.append([grp[0], int(error > threshold_n), error, threshold_n])\n",
    "    return pd.DataFrame(result, columns=['car', 'predict', 'error', 'threshold_n'])\n",
    "\n",
    "def evaluation(dataframe_std, dataframe):\n",
    "    \"\"\"\n",
    "    calculated statistics\n",
    "    :param dataframe_std:\n",
    "    :param dataframe:\n",
    "    :return:\n",
    "    \"\"\"\n",
    "\n",
    "    # calculate auroc\n",
    "#     print(dataframe) # error car\n",
    "    _label = []\n",
    "    for each_car in dataframe['car']:\n",
    "        if int(each_car) in ind_car_num_list:\n",
    "            _label.append(0)\n",
    "        if int(each_car) in ood_car_num_list:\n",
    "            _label.append(1)\n",
    "\n",
    "    fpr, tpr, thresholds = metrics.roc_curve(_label, list(dataframe['error']), pos_label=1)\n",
    "    auroc = auc(fpr, tpr)\n",
    "\n",
    "\n",
    "    data = pd.merge(dataframe_std, dataframe, on='car')\n",
    "    cm = confusion_matrix(data['label'].astype(int), data['predict'].astype(int))\n",
    "    tn = cm[0, 0]\n",
    "    fp = cm[0, 1]\n",
    "    fn = cm[1, 0]\n",
    "    tp = cm[1, 1]\n",
    "    precision = tp / (tp + fp) if tp + fp != 0 else 0\n",
    "    recall = tp / (tp + fn) if tp + fn != 0 else 0\n",
    "    false_rate = fp / (tn + fp) if tn + fp != 0 else 0\n",
    "    accuracy = (tp + tn) / (tp + tn + fp + fn) if tp + tn + fp + fn != 0 else 0\n",
    "    f1 = 2 * precision * recall / (precision + recall) if precision + recall != 0 else 0\n",
    "    return f1, recall, false_rate, precision, accuracy, auroc"
   ]
  },
  {
   "cell_type": "code",
   "execution_count": 4,
   "metadata": {},
   "outputs": [
    {
     "name": "stdout",
     "output_type": "stream",
     "text": [
      "(450034,) (450034,) (238521,) (238521,) (238521, 1)\n",
      "450034\n",
      "238521\n",
      "(450034,)\n",
      "(238521,)\n",
      "(450034, 3)\n",
      "(238521, 3)\n",
      "[[  0.           7.         556.30600047]\n",
      " [  0.           7.         465.05719271]\n",
      " [  0.           7.         535.57888305]\n",
      " [  0.           7.         308.65361707]\n",
      " [  0.           7.         535.6921988 ]]\n",
      "(688555, 3)\n",
      "(475481, 3) (213074, 3)\n"
     ]
    },
    {
     "name": "stderr",
     "output_type": "stream",
     "text": [
      " 17%|█▋        | 17/99 [00:00<00:00, 156.06it/s]"
     ]
    },
    {
     "name": "stdout",
     "output_type": "stream",
     "text": [
      "找出最大的前n%的比例 阈值调参开始:\n"
     ]
    },
    {
     "name": "stderr",
     "output_type": "stream",
     "text": [
      "100%|██████████| 99/99 [00:02<00:00, 38.86it/s] \n",
      "  0%|          | 1/200 [00:00<00:32,  6.20it/s]"
     ]
    },
    {
     "name": "stdout",
     "output_type": "stream",
     "text": [
      "前1000分之1个数的比例最高，为0.44842105263157894\n",
      "threshold_n 748.3464011252071\n",
      "训练集自检调参开始,flag is rec_error\n"
     ]
    },
    {
     "name": "stderr",
     "output_type": "stream",
     "text": [
      "100%|██████████| 200/200 [00:31<00:00,  6.23it/s]\n"
     ]
    },
    {
     "name": "stdout",
     "output_type": "stream",
     "text": [
      "dataframe_std is  302 &&   dataframe is  211\n",
      "最好的1000分之51:\n",
      "检出率: 0.6\n",
      "误报率: 0.024875621890547265\n",
      "F1: 0.5714285714285713\n"
     ]
    },
    {
     "data": {
      "image/png": "[encoded data removed]",
      "text/plain": [
       "<Figure size 432x288 with 1 Axes>"
      ]
     },
     "metadata": {
      "needs_background": "light"
     },
     "output_type": "display_data"
    },
    {
     "name": "stdout",
     "output_type": "stream",
     "text": [
      "0.773\n",
      "(442717,) (442717,) (245838,) (245838,) (245838, 1)\n",
      "442717\n",
      "245838\n",
      "(442717,)\n",
      "(245838,)\n",
      "(442717, 3)\n",
      "(245838, 3)\n",
      "[[  0.           2.          62.84587454]\n",
      " [  0.           2.         191.72063161]\n",
      " [  0.           2.         113.96865448]\n",
      " [  0.           2.         215.53144965]\n",
      " [  0.           2.         224.05053891]]\n",
      "(688555, 3)\n",
      "(468313, 3) (220242, 3)\n"
     ]
    },
    {
     "name": "stderr",
     "output_type": "stream",
     "text": [
      " 17%|█▋        | 17/99 [00:00<00:00, 154.08it/s]"
     ]
    },
    {
     "name": "stdout",
     "output_type": "stream",
     "text": [
      "找出最大的前n%的比例 阈值调参开始:\n"
     ]
    },
    {
     "name": "stderr",
     "output_type": "stream",
     "text": [
      "100%|██████████| 99/99 [00:02<00:00, 23.16it/s] \n",
      "  0%|          | 1/200 [00:00<00:33,  6.02it/s]"
     ]
    },
    {
     "name": "stdout",
     "output_type": "stream",
     "text": [
      "前1000分之3个数的比例最高，为0.5814946619217082\n",
      "threshold_n 673.7769784238153\n",
      "训练集自检调参开始,flag is rec_error\n"
     ]
    },
    {
     "name": "stderr",
     "output_type": "stream",
     "text": [
      "100%|██████████| 200/200 [00:31<00:00,  6.28it/s]\n"
     ]
    },
    {
     "name": "stdout",
     "output_type": "stream",
     "text": [
      "dataframe_std is  302 &&   dataframe is  211\n",
      "最好的1000分之64:\n",
      "检出率: 0.6\n",
      "误报率: 0.04477611940298507\n",
      "F1: 0.48\n"
     ]
    },
    {
     "data": {
      "image/png": "[encoded data removed]",
      "text/plain": [
       "<Figure size 432x288 with 1 Axes>"
      ]
     },
     "metadata": {
      "needs_background": "light"
     },
     "output_type": "display_data"
    },
    {
     "name": "stdout",
     "output_type": "stream",
     "text": [
      "0.8755\n",
      "(456879,) (456879,) (231676,) (231676,) (231676, 1)\n",
      "456879\n",
      "231676\n",
      "(456879,)\n",
      "(231676,)\n",
      "(456879, 3)\n",
      "(231676, 3)\n",
      "[[  0.           2.          72.80060363]\n",
      " [  0.           2.         200.77237661]\n",
      " [  0.           2.          81.11991744]\n",
      " [  0.           2.         240.91280919]\n",
      " [  0.           2.         253.10535494]]\n",
      "(688555, 3)\n",
      "(506214, 3) (182341, 3)\n"
     ]
    },
    {
     "name": "stderr",
     "output_type": "stream",
     "text": [
      " 17%|█▋        | 17/99 [00:00<00:00, 162.30it/s]"
     ]
    },
    {
     "name": "stdout",
     "output_type": "stream",
     "text": [
      "找出最大的前n%的比例 阈值调参开始:\n"
     ]
    },
    {
     "name": "stderr",
     "output_type": "stream",
     "text": [
      "100%|██████████| 99/99 [00:02<00:00, 37.63it/s] \n",
      "  0%|          | 1/200 [00:00<00:34,  5.80it/s]"
     ]
    },
    {
     "name": "stdout",
     "output_type": "stream",
     "text": [
      "前1000分之3个数的比例最高，为0.39433838051349573\n",
      "threshold_n 673.8131732104998\n",
      "训练集自检调参开始,flag is rec_error\n"
     ]
    },
    {
     "name": "stderr",
     "output_type": "stream",
     "text": [
      "100%|██████████| 200/200 [00:32<00:00,  6.19it/s]\n"
     ]
    },
    {
     "name": "stdout",
     "output_type": "stream",
     "text": [
      "dataframe_std is  302 &&   dataframe is  211\n",
      "最好的1000分之61:\n",
      "检出率: 0.7\n",
      "误报率: 0.04975124378109453\n",
      "F1: 0.5185185185185185\n"
     ]
    },
    {
     "data": {
      "image/png": "[encoded data removed]",
      "text/plain": [
       "<Figure size 432x288 with 1 Axes>"
      ]
     },
     "metadata": {
      "needs_background": "light"
     },
     "output_type": "display_data"
    },
    {
     "name": "stdout",
     "output_type": "stream",
     "text": [
      "0.835\n",
      "(441057,) (441057,) (247498,) (247498,) (247498, 1)\n",
      "441057\n",
      "247498\n",
      "(441057,)\n",
      "(247498,)\n",
      "(441057, 3)\n",
      "(247498, 3)\n",
      "[[  0.           2.          77.8080462 ]\n",
      " [  0.           2.         190.58811184]\n",
      " [  0.           2.          82.79179143]\n",
      " [  0.           2.         242.22508469]\n",
      " [  0.           2.         259.94758521]]\n",
      "(688555, 3)\n",
      "(461119, 3) (227436, 3)\n"
     ]
    },
    {
     "name": "stderr",
     "output_type": "stream",
     "text": [
      " 18%|█▊        | 18/99 [00:00<00:00, 167.32it/s]"
     ]
    },
    {
     "name": "stdout",
     "output_type": "stream",
     "text": [
      "找出最大的前n%的比例 阈值调参开始:\n"
     ]
    },
    {
     "name": "stderr",
     "output_type": "stream",
     "text": [
      "100%|██████████| 99/99 [00:02<00:00, 22.74it/s] \n",
      "  0%|          | 1/200 [00:00<00:33,  5.94it/s]"
     ]
    },
    {
     "name": "stdout",
     "output_type": "stream",
     "text": [
      "前1000分之1个数的比例最高，为0.6290672451193059\n",
      "threshold_n 752.3882463248698\n",
      "训练集自检调参开始,flag is rec_error\n"
     ]
    },
    {
     "name": "stderr",
     "output_type": "stream",
     "text": [
      "100%|██████████| 200/200 [00:30<00:00,  6.69it/s]\n"
     ]
    },
    {
     "name": "stdout",
     "output_type": "stream",
     "text": [
      "dataframe_std is  302 &&   dataframe is  211\n",
      "最好的1000分之165:\n",
      "检出率: 0.4\n",
      "误报率: 0.004975124378109453\n",
      "F1: 0.5333333333333333\n"
     ]
    },
    {
     "data": {
      "image/png": "[encoded data removed]",
      "text/plain": [
       "<Figure size 432x288 with 1 Axes>"
      ]
     },
     "metadata": {
      "needs_background": "light"
     },
     "output_type": "display_data"
    },
    {
     "name": "stdout",
     "output_type": "stream",
     "text": [
      "0.8594999999999999\n",
      "(447685,) (447685,) (240870,) (240870,) (240870, 1)\n",
      "447685\n",
      "240870\n",
      "(447685,)\n",
      "(240870,)\n",
      "(447685, 3)\n",
      "(240870, 3)\n",
      "[[  0.           2.          62.69390045]\n",
      " [  0.           2.         196.1393564 ]\n",
      " [  0.           2.         110.06274975]\n",
      " [  0.           2.         246.94261561]\n",
      " [  0.           2.         265.61260239]]\n",
      "(688555, 3)\n",
      "(456207, 3) (232348, 3)\n"
     ]
    },
    {
     "name": "stderr",
     "output_type": "stream",
     "text": [
      " 11%|█         | 11/99 [00:00<00:00, 99.87it/s]"
     ]
    },
    {
     "name": "stdout",
     "output_type": "stream",
     "text": [
      "找出最大的前n%的比例 阈值调参开始:\n"
     ]
    },
    {
     "name": "stderr",
     "output_type": "stream",
     "text": [
      "100%|██████████| 99/99 [00:02<00:00, 38.99it/s]\n",
      "  0%|          | 1/200 [00:00<00:32,  6.18it/s]"
     ]
    },
    {
     "name": "stdout",
     "output_type": "stream",
     "text": [
      "前1000分之1个数的比例最高，为0.5745614035087719\n",
      "threshold_n 755.3726557053928\n",
      "训练集自检调参开始,flag is rec_error\n"
     ]
    },
    {
     "name": "stderr",
     "output_type": "stream",
     "text": [
      "100%|██████████| 200/200 [00:31<00:00,  6.68it/s]\n"
     ]
    },
    {
     "name": "stdout",
     "output_type": "stream",
     "text": [
      "dataframe_std is  302 &&   dataframe is  210\n",
      "最好的1000分之79:\n",
      "检出率: 0.5\n",
      "误报率: 0.01\n",
      "F1: 0.588235294117647\n"
     ]
    },
    {
     "data": {
      "image/png": "[encoded data removed]",
      "text/plain": [
       "<Figure size 432x288 with 1 Axes>"
      ]
     },
     "metadata": {
      "needs_background": "light"
     },
     "output_type": "display_data"
    },
    {
     "name": "stdout",
     "output_type": "stream",
     "text": [
      "0.8588235294117648\n"
     ]
    }
   ],
   "source": [
    "AUC_list = []\n",
    "\n",
    "prefix = ''\n",
    "\n",
    "for fold_num in range(5):\n",
    "\n",
    "\n",
    "    # change to your corresponding dir\n",
    "    y_train_pred = np.load(f'../AE_and_SVDD/traditional_save/{prefix}_auto_encoder_use_ind_only_fold%d_y_train_pred.npy' % fold_num)\n",
    "    y_train_scores = np.load(f'../AE_and_SVDD/traditional_save/{prefix}_auto_encoder_use_ind_only_fold%d_y_train_scores.npy' % fold_num)\n",
    "    y_test_pred = np.load(f'../AE_and_SVDD/traditional_save/{prefix}_auto_encoder_use_ind_only_fold%d_y_test_pred.npy' % fold_num)\n",
    "    y_test_scores = np.load(f'../AE_and_SVDD/traditional_save/{prefix}_auto_encoder_use_ind_only_fold%d_y_test_scores.npy' % fold_num)\n",
    "    y_test = np.load(f'../AE_and_SVDD/traditional_save/{prefix}_auto_encoder_use_ind_only_fold%d_y_test.npy' % fold_num)\n",
    "\n",
    "    print(y_train_pred.shape, y_train_scores.shape, y_test_pred.shape, y_test_scores.shape, y_test.shape)\n",
    "\n",
    "    # replace the following two car number lists\n",
    "    ind_ood_car_dict = np.load('../five_fold_utils/ind_odd_dict1.npz.npy', allow_pickle=True).item()\n",
    "    ind_car_num_list = ind_ood_car_dict['ind_sorted']\n",
    "    ood_car_num_list = ind_ood_car_dict['ood_sorted']\n",
    "    \n",
    "    \n",
    "    #\n",
    "    car_number_train = ind_car_num_list[:int(fold_num * len(ind_car_num_list) / 5)] + ind_car_num_list[int((fold_num + 1) * len(ind_car_num_list) / 5):]\n",
    "    car_number_test = ind_car_num_list[int(fold_num * len(ind_car_num_list) / 5):int((fold_num + 1) * len(ind_car_num_list) / 5)] + ood_car_num_list\n",
    "\n",
    "    # build 3 column csv file\n",
    "    all_car_dict = np.load('../five_fold_utils/all_car_dict.npz.npy', allow_pickle=True).item()\n",
    "\n",
    "    car_train = []\n",
    "    for each_num in car_number_train:\n",
    "        for each_pkl in all_car_dict[each_num]:\n",
    "            car_train.append(each_num)\n",
    "    car_test = []\n",
    "    for each_num in car_number_test:\n",
    "        for each_pkl in all_car_dict[each_num]:\n",
    "            car_test.append(each_num)\n",
    "    print(len(car_train))\n",
    "    print(len(car_test))\n",
    "    car_train = np.array(car_train)\n",
    "    car_test = np.array(car_test)\n",
    "\n",
    "    print(y_train_scores.shape)\n",
    "    print(y_test_scores.shape)\n",
    "\n",
    "    car_label_train = []\n",
    "    car_label_test = []\n",
    "\n",
    "    for each in car_train:\n",
    "        if each in ind_car_num_list:\n",
    "            car_label_train.append(0)\n",
    "        if each in ood_car_num_list:\n",
    "            car_label_train.append(1)\n",
    "    for each in car_test:\n",
    "        if each in ind_car_num_list:\n",
    "            car_label_test.append(0)\n",
    "        if each in ood_car_num_list:\n",
    "            car_label_test.append(1)\n",
    "    car_label_train = np.array(car_label_train)\n",
    "    car_label_test = np.array(car_label_test)\n",
    "\n",
    "    data_train = np.vstack((car_label_train, car_train, y_train_scores)).T\n",
    "    data_test = np.vstack((car_label_test, car_test, y_test_scores)).T\n",
    "\n",
    "    data = np.vstack((data_train, data_test))\n",
    "\n",
    "    print(data_train.shape)\n",
    "    print(data_test.shape)\n",
    "    print(data_train[:5, ])\n",
    "    print(data.shape)\n",
    "\n",
    "    validation_car_number = ind_car_num_list[:int(fold_num * len(ind_car_num_list) / 5)] + ind_car_num_list[int((fold_num + 1) * len(ind_car_num_list) / 5):] + ood_car_num_list[int(fold_num * len(ood_car_num_list) / 5):int((fold_num + 1) * len(ood_car_num_list) / 5)]\n",
    "    test_car_number = ind_car_num_list[int(fold_num * len(ind_car_num_list) / 5):int((fold_num + 1) * len(ind_car_num_list) / 5)] + ood_car_num_list[:int(fold_num * len(ood_car_num_list) / 5)] + ood_car_num_list[int((fold_num + 1) * len(ood_car_num_list) / 5):]\n",
    "\n",
    "\n",
    "    validation_data = []\n",
    "    test_data = []\n",
    "\n",
    "    for each_line in data:\n",
    "        if each_line[1] in validation_car_number:\n",
    "            validation_data.append(each_line)\n",
    "        else:\n",
    "            test_data.append(each_line)\n",
    "\n",
    "    validation_data = np.array(validation_data)\n",
    "    test_data = np.array(test_data)\n",
    "    print(validation_data.shape, test_data.shape)\n",
    "\n",
    "    rec_sorted_index = np.argsort(-validation_data[:, 2].astype(float))\n",
    "    res = [validation_data[i][[1, 0, 2]] for i in rec_sorted_index]\n",
    "    result = pd.DataFrame(res, columns=['car', 'label', 'rec_error'])\n",
    "    result['car'] = result['car'].astype(\"int\").astype(\"str\")\n",
    "    best_n, max_percent, granularity = find_best_percent(result, granularity_all=1000)\n",
    "    head_n = best_n / granularity\n",
    "    data_length = round(len(result) * head_n)\n",
    "    threshold_n = result['rec_error'].values[data_length - 1].astype(float)\n",
    "    print(\"threshold_n\", threshold_n)\n",
    "    print(\"trainset start,flag is\", 'rec_error')\n",
    "    #\n",
    "    dataframe_std1 = pd.read_csv(os.path.join('../data/battery_brand1/label', \"train_label.csv\"), dtype=object)\n",
    "    dataframe_std2 = pd.read_csv(os.path.join('../data/battery_brand1/label', \"test_label.csv\"), dtype=object)\n",
    "    dataframe_std3 = pd.read_csv(os.path.join('../data/battery_brand2/label', \"train_label.csv\"), dtype=object)\n",
    "    dataframe_std4 = pd.read_csv(os.path.join('../data/battery_brand2/label', \"test_label.csv\"), dtype=object)\n",
    "    dataframe_std5 = pd.read_csv(os.path.join('../data/battery_brand4/label', \"all_label.csv\"), dtype=object)\n",
    "    dataframe_std = pd.concat([dataframe_std1, dataframe_std2, dataframe_std3, dataframe_std4, dataframe_std5], axis=0,ignore_index=True)\n",
    "    assert max(dataframe_std['car'].astype(\"int\"))>300\n",
    "    assert 201 in dataframe_std['car'].astype(\"int\")\n",
    "    best_result, best_h, best_re, best_fa, best_f1, best_auroc = find_best_result(threshold_n, result, dataframe_std)\n",
    "    # best_result.to_csv(os.path.join(self.args.result_path, \"train_res.csv\")),\n",
    "    if dataframe_std.shape[0] == best_result.shape[0]:\n",
    "        pass\n",
    "    else:\n",
    "        print('dataframe_std is ', dataframe_std.shape[0], '&&   dataframe is ', best_result.shape[0])\n",
    "    print(\"best 1000 / %d:\" % best_h)\n",
    "    print(\"re:\", best_re)\n",
    "    print(\"fa:\", best_fa)\n",
    "    print(\"F1:\", best_f1)\n",
    "    rec_sorted_index = np.argsort(-test_data[:, 2].astype(float))\n",
    "    res = [test_data[i][[1, 0, 2]] for i in rec_sorted_index]\n",
    "    result = pd.DataFrame(res, columns=['car', 'label', 'rec_error'])\n",
    "    result['car'] = result['car'].astype(\"int\").astype(\"str\")\n",
    "    # result.to_csv(os.path.join(self.args.result_path, \"test_segment_scores.csv\"))\n",
    "    test_result = charge_to_car(threshold_n, result, head_n=best_h)\n",
    "\n",
    "    _score = list(test_result['error'])\n",
    "    _label = []\n",
    "    for each_car in test_result['car']:\n",
    "        if int(each_car) in ind_car_num_list:\n",
    "            _label.append(0)\n",
    "        if int(each_car) in ood_car_num_list:\n",
    "            _label.append(1)\n",
    "\n",
    "    fpr, tpr, thresholds = metrics.roc_curve(_label, _score, pos_label=1)\n",
    "\n",
    "    np.save('../AE_and_SVDD/traditional_save/robust_all_score_fold%d.npy' % fold_num, _score)\n",
    "    np.save('../AE_and_SVDD/traditional_save/robust_labels_fold%d.npy' % fold_num, _label)\n",
    "\n",
    "    # print(_label, _score)\n",
    "    plt.plot(fpr, tpr)\n",
    "    plt.show()\n",
    "    AUC = auc(fpr, tpr)\n",
    "    print(AUC)\n",
    "    AUC_list.append(AUC)\n",
    "\n"
   ]
  },
  {
   "cell_type": "code",
   "execution_count": 5,
   "metadata": {},
   "outputs": [
    {
     "name": "stdout",
     "output_type": "stream",
     "text": [
      "[0.773, 0.8755, 0.835, 0.8594999999999999, 0.8588235294117648]\n",
      "0.840364705882353\n"
     ]
    }
   ],
   "source": [
    "print(AUC_list)\n",
    "print(np.mean(AUC_list))"
   ]
  },
  {
   "cell_type": "code",
   "execution_count": null,
   "metadata": {},
   "outputs": [],
   "source": []
  },
  {
   "cell_type": "code",
   "execution_count": null,
   "metadata": {},
   "outputs": [],
   "source": []
  }
 ],
 "metadata": {
  "kernelspec": {
   "display_name": "Python 3",
   "language": "python",
   "name": "python3"
  },
  "language_info": {
   "codemirror_mode": {
    "name": "ipython",
    "version": 3
   },
   "file_extension": ".py",
   "mimetype": "text/x-python",
   "name": "python",
   "nbconvert_exporter": "python",
   "pygments_lexer": "ipython3",
   "version": "3.6.5"
  }
 },
 "nbformat": 4,
 "nbformat_minor": 4
}
