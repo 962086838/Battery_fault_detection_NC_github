{
 "cells": [
  {
   "cell_type": "code",
   "execution_count": 1,
   "metadata": {},
   "outputs": [],
   "source": [
    "import os\n",
    "import sys\n",
    "import numpy as np\n",
    "import pandas as pd\n",
    "import torch\n",
    "# from pyod.models.iforest import IForest\n",
    "from sklearn.metrics import confusion_matrix\n",
    "from tqdm import tqdm\n",
    "from sklearn import metrics\n",
    "import matplotlib.pyplot as plt\n",
    "from sklearn.metrics import auc"
   ]
  },
  {
   "cell_type": "code",
   "execution_count": null,
   "metadata": {},
   "outputs": [],
   "source": []
  },
  {
   "cell_type": "code",
   "execution_count": 2,
   "metadata": {},
   "outputs": [],
   "source": [
    "fold_num = 4"
   ]
  },
  {
   "cell_type": "code",
   "execution_count": 5,
   "metadata": {},
   "outputs": [
    {
     "name": "stdout",
     "output_type": "stream",
     "text": [
      "(447685,) (447685,) (240870,) (240870,) (240870, 1)\n"
     ]
    }
   ],
   "source": [
    "prefix = '' \n",
    "\n",
    "# change to your corresponding dir\n",
    "y_train_pred = np.load(f'../AE_and_SVDD/traditional_save/{prefix}_auto_encoder_use_ind_only_fold%d_y_train_pred.npy' % fold_num)\n",
    "y_train_scores = np.load(f'../AE_and_SVDD/traditional_save/{prefix}_auto_encoder_use_ind_only_fold%d_y_train_scores.npy' % fold_num)\n",
    "y_test_pred = np.load(f'../AE_and_SVDD/traditional_save/{prefix}_auto_encoder_use_ind_only_fold%d_y_test_pred.npy' % fold_num)\n",
    "y_test_scores = np.load(f'../AE_and_SVDD/traditional_save/{prefix}_auto_encoder_use_ind_only_fold%d_y_test_scores.npy' % fold_num)\n",
    "y_test = np.load(f'../AE_and_SVDD/traditional_save/{prefix}_auto_encoder_use_ind_only_fold%d_y_test.npy' % fold_num)\n",
    "\n",
    "print(y_train_pred.shape, y_train_scores.shape, y_test_pred.shape, y_test_scores.shape, y_test.shape)"
   ]
  },
  {
   "cell_type": "code",
   "execution_count": 7,
   "metadata": {},
   "outputs": [
    {
     "name": "stdout",
     "output_type": "stream",
     "text": [
      "447685\n",
      "240870\n",
      "[[  0.           2.          62.69390045]\n",
      " [  0.           2.         196.1393564 ]\n",
      " [  0.           2.         110.06274975]\n",
      " [  0.           2.         246.94261561]\n",
      " [  0.           2.         265.61260239]]\n"
     ]
    }
   ],
   "source": [
    "# replace the following two car number lists\n",
    "ind_ood_car_dict = np.load('../five_fold_utils/ind_odd_dict1.npz.npy', allow_pickle=True).item()\n",
    "ind_car_num_list = ind_ood_car_dict['ind_sorted']\n",
    "ood_car_num_list = ind_ood_car_dict['ood_sorted']\n",
    "\n",
    "car_number_train = ind_car_num_list[:int(fold_num * len(ind_car_num_list) / 5)] + ind_car_num_list[int((fold_num + 1) * len(ind_car_num_list) / 5):]\n",
    "car_number_test = ind_car_num_list[int(fold_num * len(ind_car_num_list) / 5):int((fold_num + 1) * len(ind_car_num_list) / 5)] + ood_car_num_list\n",
    "\n",
    "# build 3 column csv file\n",
    "all_car_dict = np.load('../five_fold_utils/all_car_dict.npz.npy', allow_pickle=True).item()\n",
    "\n",
    "car_train = []\n",
    "for each_num in car_number_train:\n",
    "    for each_pkl in all_car_dict[each_num]:\n",
    "        car_train.append(each_num)\n",
    "car_test = []\n",
    "for each_num in car_number_test:\n",
    "    for each_pkl in all_car_dict[each_num]:\n",
    "        car_test.append(each_num)\n",
    "print(len(car_train))\n",
    "print(len(car_test))\n",
    "car_train = np.array(car_train)\n",
    "car_test = np.array(car_test)\n",
    "\n",
    "car_label_train = []\n",
    "car_label_test = []\n",
    "\n",
    "for each in car_train:\n",
    "    if each in ind_car_num_list:\n",
    "        car_label_train.append(0)\n",
    "    if each in ood_car_num_list:\n",
    "        car_label_train.append(1)\n",
    "for each in car_test:\n",
    "    if each in ind_car_num_list:\n",
    "        car_label_test.append(0)\n",
    "    if each in ood_car_num_list:\n",
    "        car_label_test.append(1)\n",
    "car_label_train = np.array(car_label_train)\n",
    "car_label_test = np.array(car_label_test)\n",
    "\n",
    "data_train = np.vstack((car_label_train, car_train, y_train_scores)).T\n",
    "data_test = np.vstack((car_label_test, car_test, y_test_scores)).T\n",
    "\n",
    "data = np.vstack((data_train, data_test))\n",
    "print(data[0:5])"
   ]
  },
  {
   "cell_type": "code",
   "execution_count": 8,
   "metadata": {},
   "outputs": [],
   "source": [
    "validation_car_number = ind_car_num_list[:int(fold_num * len(ind_car_num_list) / 5)] + ind_car_num_list[int((fold_num + 1) * len(ind_car_num_list) / 5):] + ood_car_num_list[int(fold_num * len(ood_car_num_list) / 5):int((fold_num + 1) * len(ood_car_num_list) / 5)]\n",
    "test_car_number = ind_car_num_list[int(fold_num * len(ind_car_num_list) / 5):int((fold_num + 1) * len(ind_car_num_list) / 5)] + ood_car_num_list[:int(fold_num * len(ood_car_num_list) / 5)] + ood_car_num_list[int((fold_num + 1) * len(ood_car_num_list) / 5):]\n",
    "# test_car_number = ind_car_num_list[int(fold_num * len(ind_car_num_list) / 5):int((fold_num + 1) * len(ind_car_num_list) / 5)] + ood_car_num_list"
   ]
  },
  {
   "cell_type": "code",
   "execution_count": 9,
   "metadata": {},
   "outputs": [],
   "source": [
    "ind_car_score = []\n",
    "ood_car_score = []\n",
    "\n",
    "for each_car_num in test_car_number:\n",
    "    this_car_score = np.mean(data[np.where(data[:, 1]==each_car_num)][:, 2])\n",
    "    if each_car_num in ind_car_num_list:\n",
    "        ind_car_score.append(this_car_score)\n",
    "    else:\n",
    "        ood_car_score.append(this_car_score)\n",
    "#     print(each_car_num, len(this_car_score))"
   ]
  },
  {
   "cell_type": "code",
   "execution_count": 11,
   "metadata": {},
   "outputs": [
    {
     "data": {
      "image/png": "[encoded data removed]",
      "text/plain": [
       "<Figure size 432x288 with 1 Axes>"
      ]
     },
     "metadata": {
      "needs_background": "light"
     },
     "output_type": "display_data"
    },
    {
     "name": "stdout",
     "output_type": "stream",
     "text": [
      "0.9019607843137254\n"
     ]
    }
   ],
   "source": [
    "label = [1] * len(ood_car_score) + [0] * len(ind_car_score)\n",
    "score = np.hstack((ood_car_score, ind_car_score))\n",
    "\n",
    "fpr, tpr, thresholds = metrics.roc_curve(label, score, pos_label=1)\n",
    "plt.plot(fpr, tpr)\n",
    "plt.show()\n",
    "AUC = auc(fpr, tpr)\n",
    "print(AUC)\n",
    "\n",
    "np.save('../AE_and_SVDD/traditional_save/average_all_score_fold%d.npy' % fold_num, score)\n",
    "np.save('../AE_and_SVDD/traditional_save/average_labels_fold%d.npy' % fold_num, label)"
   ]
  },
  {
   "cell_type": "code",
   "execution_count": null,
   "metadata": {},
   "outputs": [],
   "source": []
  }
 ],
 "metadata": {
  "kernelspec": {
   "display_name": "Python 3",
   "language": "python",
   "name": "python3"
  },
  "language_info": {
   "codemirror_mode": {
    "name": "ipython",
    "version": 3
   },
   "file_extension": ".py",
   "mimetype": "text/x-python",
   "name": "python",
   "nbconvert_exporter": "python",
   "pygments_lexer": "ipython3",
   "version": "3.6.5"
  }
 },
 "nbformat": 4,
 "nbformat_minor": 4
}
